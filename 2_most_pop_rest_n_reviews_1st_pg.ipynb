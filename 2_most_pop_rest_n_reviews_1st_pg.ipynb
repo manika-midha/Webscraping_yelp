{
 "cells": [
  {
   "cell_type": "code",
   "execution_count": 14,
   "id": "8badd1ee",
   "metadata": {},
   "outputs": [],
   "source": [
    "from selenium import webdriver\n",
    "from selenium.webdriver.common.keys import Keys\n",
    "\n",
    "from bs4 import BeautifulSoup\n",
    "import requests\n",
    "import pandas as pd"
   ]
  },
  {
   "cell_type": "code",
   "execution_count": 15,
   "id": "c4bf832f",
   "metadata": {},
   "outputs": [],
   "source": [
    "restaurants_df = pd.read_csv('restaurants.csv')"
   ]
  },
  {
   "cell_type": "code",
   "execution_count": 16,
   "id": "49b9b715",
   "metadata": {},
   "outputs": [],
   "source": [
    "#drop Unnamed:0 column\n",
    "restaurants_df_drop_col = restaurants_df.drop(['Unnamed: 0'], axis=1)"
   ]
  },
  {
   "cell_type": "code",
   "execution_count": 17,
   "id": "aa0d61de",
   "metadata": {},
   "outputs": [],
   "source": [
    "#remove duplicate rows :\n",
    "restaurants_df_drop_col_remove_dups = restaurants_df_drop_col.drop_duplicates(keep = False)"
   ]
  },
  {
   "cell_type": "code",
   "execution_count": 19,
   "id": "bd565f88",
   "metadata": {},
   "outputs": [
    {
     "data": {
      "text/html": [
       "<div>\n",
       "<style scoped>\n",
       "    .dataframe tbody tr th:only-of-type {\n",
       "        vertical-align: middle;\n",
       "    }\n",
       "\n",
       "    .dataframe tbody tr th {\n",
       "        vertical-align: top;\n",
       "    }\n",
       "\n",
       "    .dataframe thead th {\n",
       "        text-align: right;\n",
       "    }\n",
       "</style>\n",
       "<table border=\"1\" class=\"dataframe\">\n",
       "  <thead>\n",
       "    <tr style=\"text-align: right;\">\n",
       "      <th></th>\n",
       "      <th>rest_name</th>\n",
       "      <th>star_rating</th>\n",
       "      <th>restaurant_reviews_count</th>\n",
       "      <th>restaurant_price</th>\n",
       "      <th>restaurant_cuisines</th>\n",
       "      <th>restaurant_area</th>\n",
       "      <th>restaurant_delivery_options</th>\n",
       "    </tr>\n",
       "  </thead>\n",
       "  <tbody>\n",
       "    <tr>\n",
       "      <th>72</th>\n",
       "      <td>Byblos</td>\n",
       "      <td>4.5</td>\n",
       "      <td>814</td>\n",
       "      <td>$$$</td>\n",
       "      <td>['Mediterranean', 'Middle Eastern']</td>\n",
       "      <td>Entertainment District</td>\n",
       "      <td>['Delivery', 'Takeout']</td>\n",
       "    </tr>\n",
       "    <tr>\n",
       "      <th>185</th>\n",
       "      <td>Maha’s</td>\n",
       "      <td>4.0</td>\n",
       "      <td>522</td>\n",
       "      <td>$$</td>\n",
       "      <td>['Egyptian', 'Vegan', 'Sandwiches']</td>\n",
       "      <td>Leslieville</td>\n",
       "      <td>['Outdoor dining', 'Takeout']</td>\n",
       "    </tr>\n",
       "    <tr>\n",
       "      <th>28</th>\n",
       "      <td>Lahore Tikka House</td>\n",
       "      <td>3.5</td>\n",
       "      <td>508</td>\n",
       "      <td>$$</td>\n",
       "      <td>['Halal', 'Pakistani']</td>\n",
       "      <td>Leslieville</td>\n",
       "      <td>['Outdoor dining', 'Delivery', 'Takeout']</td>\n",
       "    </tr>\n",
       "    <tr>\n",
       "      <th>17</th>\n",
       "      <td>Banjara Indian Cuisine</td>\n",
       "      <td>3.5</td>\n",
       "      <td>417</td>\n",
       "      <td>$$</td>\n",
       "      <td>['Indian']</td>\n",
       "      <td>Christie Pits</td>\n",
       "      <td>[]</td>\n",
       "    </tr>\n",
       "    <tr>\n",
       "      <th>255</th>\n",
       "      <td>Fresh on Spadina</td>\n",
       "      <td>4.0</td>\n",
       "      <td>406</td>\n",
       "      <td>$$</td>\n",
       "      <td>['Vegan', 'Juice Bars &amp; Smoothies', 'Burgers']</td>\n",
       "      <td>Entertainment District</td>\n",
       "      <td>['Proof of vaccination required', 'Takeout']</td>\n",
       "    </tr>\n",
       "    <tr>\n",
       "      <th>21</th>\n",
       "      <td>Little India Restaurant</td>\n",
       "      <td>3.5</td>\n",
       "      <td>390</td>\n",
       "      <td>$$</td>\n",
       "      <td>['Indian', 'Buffets']</td>\n",
       "      <td>Queen Street West</td>\n",
       "      <td>['Delivery', 'Takeout']</td>\n",
       "    </tr>\n",
       "    <tr>\n",
       "      <th>292</th>\n",
       "      <td>The Halal Guys</td>\n",
       "      <td>3.0</td>\n",
       "      <td>257</td>\n",
       "      <td>$$</td>\n",
       "      <td>['Middle Eastern', 'Halal']</td>\n",
       "      <td>Church-Wellesley Village</td>\n",
       "      <td>['Delivery', 'Takeout']</td>\n",
       "    </tr>\n",
       "    <tr>\n",
       "      <th>57</th>\n",
       "      <td>Tibet Kitchen</td>\n",
       "      <td>4.5</td>\n",
       "      <td>245</td>\n",
       "      <td>$$</td>\n",
       "      <td>['Himalayan/Nepalese']</td>\n",
       "      <td>Parkdale</td>\n",
       "      <td>['Delivery']</td>\n",
       "    </tr>\n",
       "    <tr>\n",
       "      <th>36</th>\n",
       "      <td>Aroma Fine Indian Cuisine</td>\n",
       "      <td>3.5</td>\n",
       "      <td>210</td>\n",
       "      <td>$$</td>\n",
       "      <td>['Indian']</td>\n",
       "      <td>Entertainment District</td>\n",
       "      <td>['Delivery']</td>\n",
       "    </tr>\n",
       "    <tr>\n",
       "      <th>15</th>\n",
       "      <td>Indian Roti House</td>\n",
       "      <td>4.0</td>\n",
       "      <td>208</td>\n",
       "      <td>$$</td>\n",
       "      <td>['Indian']</td>\n",
       "      <td>Harbourfront</td>\n",
       "      <td>['Delivery', 'Takeout']</td>\n",
       "    </tr>\n",
       "  </tbody>\n",
       "</table>\n",
       "</div>"
      ],
      "text/plain": [
       "                     rest_name  star_rating  restaurant_reviews_count  \\\n",
       "72                      Byblos          4.5                       814   \n",
       "185                     Maha’s          4.0                       522   \n",
       "28          Lahore Tikka House          3.5                       508   \n",
       "17      Banjara Indian Cuisine          3.5                       417   \n",
       "255           Fresh on Spadina          4.0                       406   \n",
       "21     Little India Restaurant          3.5                       390   \n",
       "292             The Halal Guys          3.0                       257   \n",
       "57               Tibet Kitchen          4.5                       245   \n",
       "36   Aroma Fine Indian Cuisine          3.5                       210   \n",
       "15           Indian Roti House          4.0                       208   \n",
       "\n",
       "    restaurant_price                             restaurant_cuisines  \\\n",
       "72               $$$             ['Mediterranean', 'Middle Eastern']   \n",
       "185               $$             ['Egyptian', 'Vegan', 'Sandwiches']   \n",
       "28                $$                          ['Halal', 'Pakistani']   \n",
       "17                $$                                      ['Indian']   \n",
       "255               $$  ['Vegan', 'Juice Bars & Smoothies', 'Burgers']   \n",
       "21                $$                           ['Indian', 'Buffets']   \n",
       "292               $$                     ['Middle Eastern', 'Halal']   \n",
       "57                $$                          ['Himalayan/Nepalese']   \n",
       "36                $$                                      ['Indian']   \n",
       "15                $$                                      ['Indian']   \n",
       "\n",
       "              restaurant_area                   restaurant_delivery_options  \n",
       "72     Entertainment District                       ['Delivery', 'Takeout']  \n",
       "185               Leslieville                 ['Outdoor dining', 'Takeout']  \n",
       "28                Leslieville     ['Outdoor dining', 'Delivery', 'Takeout']  \n",
       "17              Christie Pits                                            []  \n",
       "255    Entertainment District  ['Proof of vaccination required', 'Takeout']  \n",
       "21          Queen Street West                       ['Delivery', 'Takeout']  \n",
       "292  Church-Wellesley Village                       ['Delivery', 'Takeout']  \n",
       "57                   Parkdale                                  ['Delivery']  \n",
       "36     Entertainment District                                  ['Delivery']  \n",
       "15               Harbourfront                       ['Delivery', 'Takeout']  "
      ]
     },
     "execution_count": 19,
     "metadata": {},
     "output_type": "execute_result"
    }
   ],
   "source": [
    "#Top 10 indian restaurants in Toronto, number of reviews, then number of stars\n",
    "top_ten_rests = restaurants_df_drop_col_remove_dups.sort_values(['restaurant_reviews_count','star_rating'], ascending = (False,False)).head(10)\n",
    "top_ten_rests\n",
    "\n"
   ]
  },
  {
   "cell_type": "code",
   "execution_count": 20,
   "id": "d5f532ca",
   "metadata": {},
   "outputs": [],
   "source": [
    "most_popular_rest = top_ten_rests.iloc[3,:]"
   ]
  },
  {
   "cell_type": "code",
   "execution_count": 7,
   "id": "3c59fe45",
   "metadata": {},
   "outputs": [
    {
     "data": {
      "text/plain": [
       "rest_name                      Banjara Indian Cuisine\n",
       "star_rating                                       3.5\n",
       "restaurant_reviews_count                          417\n",
       "restaurant_price                                   $$\n",
       "restaurant_cuisines                        ['Indian']\n",
       "restaurant_area                         Christie Pits\n",
       "restaurant_delivery_options                        []\n",
       "Name: 17, dtype: object"
      ]
     },
     "execution_count": 7,
     "metadata": {},
     "output_type": "execute_result"
    }
   ],
   "source": [
    "most_popular_rest"
   ]
  },
  {
   "cell_type": "code",
   "execution_count": 119,
   "id": "bfa05785",
   "metadata": {},
   "outputs": [],
   "source": [
    "#rest_name_area_lower = most_popular_rest['rest_name'].lower() + ' ' + most_popular_rest['restaurant_area'].lower()\n",
    "#rest_name_area_lower"
   ]
  },
  {
   "cell_type": "code",
   "execution_count": 120,
   "id": "a505e97f",
   "metadata": {},
   "outputs": [],
   "source": [
    "#rest_name_area_lower_list = rest_name_area_lower.split()\n",
    "#rest_name_area_lower_list"
   ]
  },
  {
   "cell_type": "code",
   "execution_count": 121,
   "id": "c157c7ef",
   "metadata": {},
   "outputs": [],
   "source": [
    "#rest_name_lower = most_popular_rest['rest_name'].lower()\n",
    "#rest_name_lower"
   ]
  },
  {
   "cell_type": "code",
   "execution_count": 122,
   "id": "988b4fad",
   "metadata": {},
   "outputs": [],
   "source": [
    "#rest_name_list = rest_name_lower.split()\n",
    "#rest_name_list"
   ]
  },
  {
   "cell_type": "code",
   "execution_count": 118,
   "id": "d01743cb",
   "metadata": {},
   "outputs": [],
   "source": [
    "#x = '-'.join(rest_name_list)\n",
    "#x"
   ]
  },
  {
   "cell_type": "code",
   "execution_count": 117,
   "id": "11cfe2b7",
   "metadata": {},
   "outputs": [],
   "source": [
    "#y = '+'.join(rest_name_area_lower_list)\n",
    "#y"
   ]
  },
  {
   "cell_type": "code",
   "execution_count": 116,
   "id": "9fe63cdd",
   "metadata": {},
   "outputs": [],
   "source": [
    "#m = 'https://www.yelp.ca/biz/' + x + 'toronto?osq=' + y\n",
    "#m"
   ]
  },
  {
   "cell_type": "code",
   "execution_count": 115,
   "id": "c9a891e9",
   "metadata": {},
   "outputs": [],
   "source": [
    "#rest_name_lower = most_popular_rest['rest_name'].lower()\n",
    "#print(rest_name_lower)\n",
    "\n",
    "#rest_name_area_lower = most_popular_rest['rest_name'].lower() + ' ' + most_popular_rest['restaurant_area'].lower()\n",
    "#print(rest_name_area_lower)\n"
   ]
  },
  {
   "cell_type": "code",
   "execution_count": 21,
   "id": "f7677931",
   "metadata": {},
   "outputs": [],
   "source": [
    "#returns url of most popular restauramt\n",
    "\n",
    "def return_url(rest_name_lower, rest_name_area_lower):\n",
    "    \n",
    "    rest_name_area_lower_list = rest_name_area_lower.split()\n",
    "    rest_name_list = rest_name_lower.split()\n",
    "    \n",
    "    x = '-'.join(rest_name_list)\n",
    "    y = '+'.join(rest_name_area_lower_list) \n",
    "   \n",
    "    main_url_str = 'https://www.yelp.ca/biz/' + x + '-toronto?osq=' + y\n",
    "    \n",
    "    return f'{main_url_str}'\n",
    "    "
   ]
  },
  {
   "cell_type": "code",
   "execution_count": 114,
   "id": "324d9309",
   "metadata": {},
   "outputs": [],
   "source": [
    "#return_url('banjara indian cuisine','banjara indian cuisine christie pits')"
   ]
  },
  {
   "cell_type": "code",
   "execution_count": null,
   "id": "0054bc2f",
   "metadata": {},
   "outputs": [],
   "source": [
    "#https://www.yelp.ca/biz/banjara-indian-cuisine-christie-pitstoronto?osq=banjara+indian+cuisine"
   ]
  },
  {
   "cell_type": "code",
   "execution_count": null,
   "id": "3ad7af69",
   "metadata": {},
   "outputs": [],
   "source": [
    "#start technical analysis of most popular indian restaurant in Toronto"
   ]
  },
  {
   "cell_type": "code",
   "execution_count": 24,
   "id": "e3efc622",
   "metadata": {},
   "outputs": [],
   "source": [
    "import requests \n",
    "driver = webdriver.Chrome()\n",
    "\n",
    "#get url of restaurant page :\n",
    "rest_name_lower = most_popular_rest['rest_name'].lower()\n",
    "rest_name_area_lower = most_popular_rest['rest_name'].lower() + ' ' + most_popular_rest['restaurant_area'].lower()\n",
    "\n",
    "page_url = return_url(rest_name_lower,rest_name_area_lower)\n",
    "try :\n",
    "    response = requests.get(page_url)\n",
    "    code = response.status_code \n",
    "    if code == 200 :  \n",
    "        driver.get(page_url)\n",
    "        page_source = driver.page_source\n",
    "        soup = BeautifulSoup(page_source)\n",
    "except :\n",
    "    print('Bad request')\n",
    "    \n",
    "    \n",
    "    \n",
    "    "
   ]
  },
  {
   "cell_type": "code",
   "execution_count": 51,
   "id": "12d061c7",
   "metadata": {},
   "outputs": [],
   "source": [
    "#most popular dishes \n",
    "def get_famous_dishes_info():\n",
    "    \n",
    "    dict_dishes = {\n",
    "        'dish_name': [],\n",
    "        'number_photos': [],\n",
    "        'number_reviews' : []\n",
    "    }\n",
    "    \n",
    "    #refers to all dishes on\n",
    "    containers = soup.find_all('div', class_ = 'dishPassport__09f24__dapXe border-color--default__09f24__NPAKY background-color--white__09f24__ulvSM')\n",
    "    for container in containers :\n",
    "        \n",
    "        #get name of dishes :\n",
    "        try :\n",
    "            dish_name = container.find('p', class_ = 'css-1peqmen').text\n",
    "        except :\n",
    "            dish_name = ''\n",
    "            \n",
    "        dict_dishes['dish_name'].append(dish_name)\n",
    "        \n",
    "        #get number of photos :\n",
    "        try :\n",
    "            num_photos_str = container.find('span', class_ = 'css-1e4fdj9').text #str\n",
    "            clean_num_photos_str = unicodedata.normalize(\"NFKD\",num_photos_str) #remove xao from string\n",
    "            num_photos_int = int(clean_num_photos_str.split()[0])\n",
    "        except :\n",
    "            num_photos_int = 0\n",
    "        \n",
    "        dict_dishes['number_photos'].append(num_photos_int)\n",
    "        \n",
    "        #get number of reviews\n",
    "        try :\n",
    "            num_reviews_str = container.find('span', class_ = 'css-hvzf3i').text\n",
    "            num_reviews_int = int(num_reviews_str.split()[0]) \n",
    "        except :\n",
    "            num_reviews_int = 0\n",
    "        \n",
    "        dict_dishes['number_reviews'].append(num_reviews_int)\n",
    "        df = pd.DataFrame(dict_dishes)\n",
    "            \n",
    "    return df"
   ]
  },
  {
   "cell_type": "code",
   "execution_count": 76,
   "id": "46f7e578",
   "metadata": {},
   "outputs": [],
   "source": [
    "famous_dishes_df = get_famous_dishes_info()\n"
   ]
  },
  {
   "cell_type": "code",
   "execution_count": 77,
   "id": "f92fc264",
   "metadata": {},
   "outputs": [],
   "source": [
    "#move data from df to csv\n",
    "famous_dishes_df.to_csv('famous_dighes_popular_rest.csv')"
   ]
  },
  {
   "cell_type": "code",
   "execution_count": 79,
   "id": "ba5fd889",
   "metadata": {},
   "outputs": [
    {
     "data": {
      "text/html": [
       "<div>\n",
       "<style scoped>\n",
       "    .dataframe tbody tr th:only-of-type {\n",
       "        vertical-align: middle;\n",
       "    }\n",
       "\n",
       "    .dataframe tbody tr th {\n",
       "        vertical-align: top;\n",
       "    }\n",
       "\n",
       "    .dataframe thead th {\n",
       "        text-align: right;\n",
       "    }\n",
       "</style>\n",
       "<table border=\"1\" class=\"dataframe\">\n",
       "  <thead>\n",
       "    <tr style=\"text-align: right;\">\n",
       "      <th></th>\n",
       "      <th>Unnamed: 0</th>\n",
       "      <th>dish_name</th>\n",
       "      <th>number_photos</th>\n",
       "      <th>number_reviews</th>\n",
       "    </tr>\n",
       "  </thead>\n",
       "  <tbody>\n",
       "    <tr>\n",
       "      <th>0</th>\n",
       "      <td>0</td>\n",
       "      <td>Butter Chicken</td>\n",
       "      <td>22</td>\n",
       "      <td>119</td>\n",
       "    </tr>\n",
       "    <tr>\n",
       "      <th>1</th>\n",
       "      <td>1</td>\n",
       "      <td>Palak Paneer</td>\n",
       "      <td>2</td>\n",
       "      <td>24</td>\n",
       "    </tr>\n",
       "    <tr>\n",
       "      <th>2</th>\n",
       "      <td>2</td>\n",
       "      <td>Aloo Gobi</td>\n",
       "      <td>1</td>\n",
       "      <td>22</td>\n",
       "    </tr>\n",
       "    <tr>\n",
       "      <th>3</th>\n",
       "      <td>3</td>\n",
       "      <td>Tandoori Chicken</td>\n",
       "      <td>4</td>\n",
       "      <td>13</td>\n",
       "    </tr>\n",
       "    <tr>\n",
       "      <th>4</th>\n",
       "      <td>4</td>\n",
       "      <td>Chicken Korma</td>\n",
       "      <td>1</td>\n",
       "      <td>14</td>\n",
       "    </tr>\n",
       "    <tr>\n",
       "      <th>5</th>\n",
       "      <td>5</td>\n",
       "      <td>Malai Kofta</td>\n",
       "      <td>1</td>\n",
       "      <td>15</td>\n",
       "    </tr>\n",
       "    <tr>\n",
       "      <th>6</th>\n",
       "      <td>6</td>\n",
       "      <td>Chicken Tikka Masala</td>\n",
       "      <td>1</td>\n",
       "      <td>12</td>\n",
       "    </tr>\n",
       "    <tr>\n",
       "      <th>7</th>\n",
       "      <td>7</td>\n",
       "      <td>Paneer Makhani</td>\n",
       "      <td>3</td>\n",
       "      <td>10</td>\n",
       "    </tr>\n",
       "    <tr>\n",
       "      <th>8</th>\n",
       "      <td>8</td>\n",
       "      <td>Basmati Rice</td>\n",
       "      <td>1</td>\n",
       "      <td>5</td>\n",
       "    </tr>\n",
       "    <tr>\n",
       "      <th>9</th>\n",
       "      <td>9</td>\n",
       "      <td>Lamb Rogan Josh</td>\n",
       "      <td>1</td>\n",
       "      <td>6</td>\n",
       "    </tr>\n",
       "  </tbody>\n",
       "</table>\n",
       "</div>"
      ],
      "text/plain": [
       "   Unnamed: 0             dish_name  number_photos  number_reviews\n",
       "0           0        Butter Chicken             22             119\n",
       "1           1          Palak Paneer              2              24\n",
       "2           2             Aloo Gobi              1              22\n",
       "3           3      Tandoori Chicken              4              13\n",
       "4           4         Chicken Korma              1              14\n",
       "5           5           Malai Kofta              1              15\n",
       "6           6  Chicken Tikka Masala              1              12\n",
       "7           7        Paneer Makhani              3              10\n",
       "8           8          Basmati Rice              1               5\n",
       "9           9       Lamb Rogan Josh              1               6"
      ]
     },
     "execution_count": 79,
     "metadata": {},
     "output_type": "execute_result"
    }
   ],
   "source": [
    "#move data from csv back to a df\n",
    "dish_df = pd.read_csv('famous_dighes_popular_rest.csv')\n",
    "dish_df"
   ]
  },
  {
   "cell_type": "code",
   "execution_count": 81,
   "id": "e542ef67",
   "metadata": {},
   "outputs": [
    {
     "data": {
      "text/html": [
       "<div>\n",
       "<style scoped>\n",
       "    .dataframe tbody tr th:only-of-type {\n",
       "        vertical-align: middle;\n",
       "    }\n",
       "\n",
       "    .dataframe tbody tr th {\n",
       "        vertical-align: top;\n",
       "    }\n",
       "\n",
       "    .dataframe thead th {\n",
       "        text-align: right;\n",
       "    }\n",
       "</style>\n",
       "<table border=\"1\" class=\"dataframe\">\n",
       "  <thead>\n",
       "    <tr style=\"text-align: right;\">\n",
       "      <th></th>\n",
       "      <th>dish_name</th>\n",
       "      <th>number_photos</th>\n",
       "      <th>number_reviews</th>\n",
       "    </tr>\n",
       "  </thead>\n",
       "  <tbody>\n",
       "    <tr>\n",
       "      <th>0</th>\n",
       "      <td>Butter Chicken</td>\n",
       "      <td>22</td>\n",
       "      <td>119</td>\n",
       "    </tr>\n",
       "    <tr>\n",
       "      <th>1</th>\n",
       "      <td>Palak Paneer</td>\n",
       "      <td>2</td>\n",
       "      <td>24</td>\n",
       "    </tr>\n",
       "    <tr>\n",
       "      <th>2</th>\n",
       "      <td>Aloo Gobi</td>\n",
       "      <td>1</td>\n",
       "      <td>22</td>\n",
       "    </tr>\n",
       "    <tr>\n",
       "      <th>3</th>\n",
       "      <td>Tandoori Chicken</td>\n",
       "      <td>4</td>\n",
       "      <td>13</td>\n",
       "    </tr>\n",
       "    <tr>\n",
       "      <th>4</th>\n",
       "      <td>Chicken Korma</td>\n",
       "      <td>1</td>\n",
       "      <td>14</td>\n",
       "    </tr>\n",
       "    <tr>\n",
       "      <th>5</th>\n",
       "      <td>Malai Kofta</td>\n",
       "      <td>1</td>\n",
       "      <td>15</td>\n",
       "    </tr>\n",
       "    <tr>\n",
       "      <th>6</th>\n",
       "      <td>Chicken Tikka Masala</td>\n",
       "      <td>1</td>\n",
       "      <td>12</td>\n",
       "    </tr>\n",
       "    <tr>\n",
       "      <th>7</th>\n",
       "      <td>Paneer Makhani</td>\n",
       "      <td>3</td>\n",
       "      <td>10</td>\n",
       "    </tr>\n",
       "    <tr>\n",
       "      <th>8</th>\n",
       "      <td>Basmati Rice</td>\n",
       "      <td>1</td>\n",
       "      <td>5</td>\n",
       "    </tr>\n",
       "    <tr>\n",
       "      <th>9</th>\n",
       "      <td>Lamb Rogan Josh</td>\n",
       "      <td>1</td>\n",
       "      <td>6</td>\n",
       "    </tr>\n",
       "  </tbody>\n",
       "</table>\n",
       "</div>"
      ],
      "text/plain": [
       "              dish_name  number_photos  number_reviews\n",
       "0        Butter Chicken             22             119\n",
       "1          Palak Paneer              2              24\n",
       "2             Aloo Gobi              1              22\n",
       "3      Tandoori Chicken              4              13\n",
       "4         Chicken Korma              1              14\n",
       "5           Malai Kofta              1              15\n",
       "6  Chicken Tikka Masala              1              12\n",
       "7        Paneer Makhani              3              10\n",
       "8          Basmati Rice              1               5\n",
       "9       Lamb Rogan Josh              1               6"
      ]
     },
     "execution_count": 81,
     "metadata": {},
     "output_type": "execute_result"
    }
   ],
   "source": [
    "#drop Unnamed:0 column\n",
    "dish_df_drop_0col = dish_df.drop(['Unnamed: 0'], axis=1)\n",
    "dish_df_drop_0col"
   ]
  },
  {
   "cell_type": "code",
   "execution_count": 82,
   "id": "f93d92ad",
   "metadata": {},
   "outputs": [
    {
     "data": {
      "text/html": [
       "<div>\n",
       "<style scoped>\n",
       "    .dataframe tbody tr th:only-of-type {\n",
       "        vertical-align: middle;\n",
       "    }\n",
       "\n",
       "    .dataframe tbody tr th {\n",
       "        vertical-align: top;\n",
       "    }\n",
       "\n",
       "    .dataframe thead th {\n",
       "        text-align: right;\n",
       "    }\n",
       "</style>\n",
       "<table border=\"1\" class=\"dataframe\">\n",
       "  <thead>\n",
       "    <tr style=\"text-align: right;\">\n",
       "      <th></th>\n",
       "      <th>dish_name</th>\n",
       "      <th>number_photos</th>\n",
       "      <th>number_reviews</th>\n",
       "    </tr>\n",
       "  </thead>\n",
       "  <tbody>\n",
       "    <tr>\n",
       "      <th>0</th>\n",
       "      <td>Butter Chicken</td>\n",
       "      <td>22</td>\n",
       "      <td>119</td>\n",
       "    </tr>\n",
       "    <tr>\n",
       "      <th>1</th>\n",
       "      <td>Palak Paneer</td>\n",
       "      <td>2</td>\n",
       "      <td>24</td>\n",
       "    </tr>\n",
       "    <tr>\n",
       "      <th>2</th>\n",
       "      <td>Aloo Gobi</td>\n",
       "      <td>1</td>\n",
       "      <td>22</td>\n",
       "    </tr>\n",
       "    <tr>\n",
       "      <th>3</th>\n",
       "      <td>Tandoori Chicken</td>\n",
       "      <td>4</td>\n",
       "      <td>13</td>\n",
       "    </tr>\n",
       "    <tr>\n",
       "      <th>4</th>\n",
       "      <td>Chicken Korma</td>\n",
       "      <td>1</td>\n",
       "      <td>14</td>\n",
       "    </tr>\n",
       "  </tbody>\n",
       "</table>\n",
       "</div>"
      ],
      "text/plain": [
       "          dish_name  number_photos  number_reviews\n",
       "0    Butter Chicken             22             119\n",
       "1      Palak Paneer              2              24\n",
       "2         Aloo Gobi              1              22\n",
       "3  Tandoori Chicken              4              13\n",
       "4     Chicken Korma              1              14"
      ]
     },
     "execution_count": 82,
     "metadata": {},
     "output_type": "execute_result"
    }
   ],
   "source": [
    "#top 5 dishes\n",
    "dish_df_drop_0col.head()"
   ]
  },
  {
   "cell_type": "code",
   "execution_count": 50,
   "id": "8be47fb7",
   "metadata": {},
   "outputs": [],
   "source": [
    "#containers = soup.find_all('div', class_ = 'dishPassport__09f24__dapXe border-color--default__09f24__NPAKY background-color--white__09f24__ulvSM')\n",
    "#container0 = containers[0]\n",
    "#print(container0)"
   ]
  },
  {
   "cell_type": "code",
   "execution_count": 53,
   "id": "ebcf82f5",
   "metadata": {},
   "outputs": [
    {
     "data": {
      "text/plain": [
       "'Butter Chicken'"
      ]
     },
     "execution_count": 53,
     "metadata": {},
     "output_type": "execute_result"
    }
   ],
   "source": [
    "#dish_name = container0.find('p', class_ = 'css-1peqmen').text\n",
    "#dish_name\n"
   ]
  },
  {
   "cell_type": "code",
   "execution_count": 49,
   "id": "551f56a6",
   "metadata": {},
   "outputs": [],
   "source": [
    "import unicodedata\n",
    "\n",
    "#num_photos_str = container0.find('span', class_ = 'css-1e4fdj9').text\n",
    "#clean_num_photos_str = unicodedata.normalize(\"NFKD\",num_photos_str)\n",
    "#int(clean_num_photos_str.split()[0])"
   ]
  },
  {
   "cell_type": "code",
   "execution_count": 47,
   "id": "d7274bf0",
   "metadata": {},
   "outputs": [],
   "source": [
    "#num_reviews = container0.find('span', class_ = 'css-hvzf3i').text\n",
    "#int(num_reviews.split()[0])"
   ]
  },
  {
   "cell_type": "code",
   "execution_count": 37,
   "id": "5cd2b504",
   "metadata": {},
   "outputs": [
    {
     "data": {
      "text/plain": [
       "\"\\ncontainers = soup.find_all('div', class_ = 'review__09f24__oHr9V border-color--default__09f24__NPAKY')\\ncontainer0 = containers[0]\\n#print(container0)\\n\\n\""
      ]
     },
     "execution_count": 37,
     "metadata": {},
     "output_type": "execute_result"
    }
   ],
   "source": [
    "'''\n",
    "containers = soup.find_all('div', class_ = 'review__09f24__oHr9V border-color--default__09f24__NPAKY')\n",
    "container0 = containers[0]\n",
    "#print(container0)\n",
    "\n",
    "'''\n",
    "\n",
    "\n"
   ]
  },
  {
   "cell_type": "code",
   "execution_count": 2,
   "id": "fd12fa52",
   "metadata": {},
   "outputs": [
    {
     "data": {
      "text/plain": [
       "\"\\nreviewer_name = container0.find('a', class_ = 'css-1422juy').text\\nreviewer_name\\n\""
      ]
     },
     "execution_count": 2,
     "metadata": {},
     "output_type": "execute_result"
    }
   ],
   "source": [
    "'''\n",
    "reviewer_name = container0.find('a', class_ = 'css-1422juy').text\n",
    "reviewer_name\n",
    "'''\n"
   ]
  },
  {
   "cell_type": "code",
   "execution_count": 41,
   "id": "ec214290",
   "metadata": {},
   "outputs": [],
   "source": [
    "\n",
    "#location of reviewer\n",
    "#reviewer_location = container0.find('span', class_ = 'css-1sufhje').text\n",
    "#reveiwer_city = reviewer_location.split(',')[0]\n",
    "#reveiwer_city\n"
   ]
  },
  {
   "cell_type": "code",
   "execution_count": 4,
   "id": "fdb3d989",
   "metadata": {},
   "outputs": [
    {
     "data": {
      "text/plain": [
       "\"\\n#star rating\\n\\nreview_star_rating_str = container0.find('div', class_='i-stars__09f24__foihJ i-stars--regular-5__09f24__fJwXW border-color--default__09f24__NPAKY overflow--hidden__09f24___ayzG').get('aria-label')\\nreview_star_rating_flt = float(review_star_rating_str.split()[0])\\nreview_star_rating_flt\\n\""
      ]
     },
     "execution_count": 4,
     "metadata": {},
     "output_type": "execute_result"
    }
   ],
   "source": [
    "'''\n",
    "#star rating\n",
    "\n",
    "review_star_rating_str = container0.find('div', class_='i-stars__09f24__foihJ i-stars--regular-5__09f24__fJwXW border-color--default__09f24__NPAKY overflow--hidden__09f24___ayzG').get('aria-label')\n",
    "review_star_rating_flt = float(review_star_rating_str.split()[0])\n",
    "review_star_rating_flt\n",
    "'''\n"
   ]
  },
  {
   "cell_type": "code",
   "execution_count": 84,
   "id": "2d4c4530",
   "metadata": {},
   "outputs": [
    {
     "data": {
      "text/plain": [
       "'11/28/2021'"
      ]
     },
     "execution_count": 84,
     "metadata": {},
     "output_type": "execute_result"
    }
   ],
   "source": [
    "'''\n",
    "#date of review\n",
    "review_date_str = container0.find('span', class_ = 'css-1e4fdj9').text\n",
    "review_date_str\n",
    "'''"
   ]
  },
  {
   "cell_type": "code",
   "execution_count": 5,
   "id": "b64c29f8",
   "metadata": {},
   "outputs": [
    {
     "data": {
      "text/plain": [
       "\"\\nreview_date_formatted = pd.to_datetime(review_date_str,format = '%m/%d/%Y')\\nreview_date_formatted\\n\""
      ]
     },
     "execution_count": 5,
     "metadata": {},
     "output_type": "execute_result"
    }
   ],
   "source": [
    "'''\n",
    "review_date_formatted = pd.to_datetime(review_date_str,format = '%m/%d/%Y')\n",
    "review_date_formatted\n",
    "'''"
   ]
  },
  {
   "cell_type": "code",
   "execution_count": 113,
   "id": "edf3fb25",
   "metadata": {},
   "outputs": [
    {
     "data": {
      "text/plain": [
       "pandas._libs.tslibs.timestamps.Timestamp"
      ]
     },
     "execution_count": 113,
     "metadata": {},
     "output_type": "execute_result"
    }
   ],
   "source": [
    "#type(review_date_formatted)"
   ]
  },
  {
   "cell_type": "code",
   "execution_count": 6,
   "id": "b4d93c5c",
   "metadata": {},
   "outputs": [
    {
     "data": {
      "text/plain": [
       "\"\\n#review text :\\nreview_text = container0.find('span', class_ = 'raw__09f24__T4Ezm').text\\nreview_text\\n\""
      ]
     },
     "execution_count": 6,
     "metadata": {},
     "output_type": "execute_result"
    }
   ],
   "source": [
    "'''\n",
    "#review text :\n",
    "review_text = container0.find('span', class_ = 'raw__09f24__T4Ezm').text\n",
    "review_text\n",
    "'''\n"
   ]
  },
  {
   "cell_type": "code",
   "execution_count": 7,
   "id": "b948559e",
   "metadata": {},
   "outputs": [
    {
     "data": {
      "text/plain": [
       "'\\n#useful, funny, cool\\ncontainer4 = containers[4]\\nprint(container4)\\n'"
      ]
     },
     "execution_count": 7,
     "metadata": {},
     "output_type": "execute_result"
    }
   ],
   "source": [
    "'''\n",
    "#useful, funny, cool\n",
    "container4 = containers[4]\n",
    "print(container4)\n",
    "'''"
   ]
  },
  {
   "cell_type": "code",
   "execution_count": 8,
   "id": "e4e93042",
   "metadata": {},
   "outputs": [
    {
     "data": {
      "text/plain": [
       "\"\\nnotes = container4.find_all('span', class_ = 'css-1rw3tz3')\\nprint(notes)\\n\""
      ]
     },
     "execution_count": 8,
     "metadata": {},
     "output_type": "execute_result"
    }
   ],
   "source": [
    "'''\n",
    "notes = container4.find_all('span', class_ = 'css-1rw3tz3')\n",
    "print(notes)\n",
    "'''\n"
   ]
  },
  {
   "cell_type": "code",
   "execution_count": 9,
   "id": "15e7f234",
   "metadata": {},
   "outputs": [],
   "source": [
    "#len(notes)"
   ]
  },
  {
   "cell_type": "code",
   "execution_count": 10,
   "id": "b5bbf034",
   "metadata": {},
   "outputs": [
    {
     "data": {
      "text/plain": [
       "'\\nnote = notes[0]\\nnote.text\\n'"
      ]
     },
     "execution_count": 10,
     "metadata": {},
     "output_type": "execute_result"
    }
   ],
   "source": [
    "\n",
    "'''\n",
    "note = notes[0]\n",
    "note.text\n",
    "'''\n"
   ]
  },
  {
   "cell_type": "code",
   "execution_count": 11,
   "id": "9887166b",
   "metadata": {},
   "outputs": [
    {
     "data": {
      "text/plain": [
       "'\\nnote1 = notes[1]\\nnote1.text\\n'"
      ]
     },
     "execution_count": 11,
     "metadata": {},
     "output_type": "execute_result"
    }
   ],
   "source": [
    "'''\n",
    "note1 = notes[1]\n",
    "note1.text\n",
    "'''\n"
   ]
  },
  {
   "cell_type": "code",
   "execution_count": 12,
   "id": "2a99685a",
   "metadata": {},
   "outputs": [
    {
     "data": {
      "text/plain": [
       "'\\nnote2 = notes[2]\\nnote2.text\\n'"
      ]
     },
     "execution_count": 12,
     "metadata": {},
     "output_type": "execute_result"
    }
   ],
   "source": [
    "'''\n",
    "note2 = notes[2]\n",
    "note2.text\n",
    "'''"
   ]
  },
  {
   "cell_type": "code",
   "execution_count": 13,
   "id": "19a5facd",
   "metadata": {},
   "outputs": [
    {
     "data": {
      "text/plain": [
       "'\\nfor note in notes:\\n    print(note.text)\\n    print(int(note.text.split()[1]))\\n'"
      ]
     },
     "execution_count": 13,
     "metadata": {},
     "output_type": "execute_result"
    }
   ],
   "source": [
    "'''\n",
    "for note in notes:\n",
    "    print(note.text)\n",
    "    print(int(note.text.split()[1]))\n",
    "'''"
   ]
  },
  {
   "cell_type": "code",
   "execution_count": null,
   "id": "609f47de",
   "metadata": {},
   "outputs": [],
   "source": []
  },
  {
   "cell_type": "code",
   "execution_count": 34,
   "id": "38ce1a9d",
   "metadata": {},
   "outputs": [],
   "source": [
    "#returns all information about the reviews on 1st page, in a dict format\n",
    "def get_review_info():\n",
    "    \n",
    "    review_dict = {\n",
    "        'review_text':[],\n",
    "        'review_date':[],\n",
    "        'review_star_rating': [],\n",
    "        'reviewer_city': [],\n",
    "        'review_useful_count':[],\n",
    "        'review_funny_count':[],\n",
    "        'review_cool_count':[]\n",
    "    }\n",
    "    \n",
    "    #containers contain all reviews on page 1, one container for each review\n",
    "    containers = soup.find_all('div', class_ = 'review__09f24__oHr9V border-color--default__09f24__NPAKY')\n",
    "\n",
    "    for container in containers :\n",
    "        #get review text :\n",
    "        try :\n",
    "            comment = container.find('span', class_ = 'raw__09f24__T4Ezm').text \n",
    "        except :\n",
    "            comment = '' \n",
    "        review_dict['review_text'].append(comment)\n",
    "        \n",
    "        #get review date :\n",
    "        try:\n",
    "            review_date_str = container.find('span', class_ = 'css-1e4fdj9').text\n",
    "            review_date_formatted = pd.to_datetime(review_date_str,format = '%m/%d/%Y')   \n",
    "        except :\n",
    "            review_date_formatted = ''\n",
    "        review_dict['review_date'].append(review_date_formatted)\n",
    "        \n",
    "        #get star rating\n",
    "        try:\n",
    "            review_star_rating_str = container.find('span',class_='display--inline__09f24__c6N_k border-color--default__09f24__NPAKY').div['aria-label']\n",
    "            review_star_rating_flt = float(review_star_rating_str.split()[0]) \n",
    "        except :\n",
    "            review_star_rating_flt = 0.0 \n",
    "        review_dict['review_star_rating'].append(review_star_rating_flt)\n",
    "        \n",
    "        #get reviewer location \n",
    "        try:\n",
    "            reviewer_location = container.find('span', class_ = 'css-1sufhje').text \n",
    "            reviewer_city = reviewer_location.split(',')[0]\n",
    "        except:\n",
    "            reviewer_city = ''\n",
    "        review_dict['reviewer_city'].append(reviewer_city)\n",
    "        \n",
    "        #get emotions number\n",
    "        notes = container.find_all('span', class_ = 'css-1rw3tz3')\n",
    "        try:\n",
    "            useful_count =  int(notes[0].text.split()[1])\n",
    "        except :\n",
    "             useful_count = 0\n",
    "        review_dict['review_useful_count'].append(useful_count)\n",
    "        \n",
    "        try:\n",
    "            funny_count =  int(notes[1].text.split()[1]) \n",
    "        except :\n",
    "            funny_count = 0 \n",
    "        review_dict['review_funny_count'].append(funny_count)\n",
    "        \n",
    "        try:\n",
    "            cool_count =  int(notes[2].text.split()[1]) \n",
    "        except :\n",
    "            cool_count = 0 \n",
    "        review_dict['review_cool_count'].append(cool_count)\n",
    "        \n",
    "        \n",
    "    return review_dict"
   ]
  },
  {
   "cell_type": "code",
   "execution_count": 35,
   "id": "de637b70",
   "metadata": {},
   "outputs": [
    {
     "data": {
      "text/plain": [
       "{'review_text': ['Went here for my first meal in Toronto and it did not disappoint. I got a veggie combo- it came with palak paneer, aloo gobi, plain naan, rice, onion pakora, daal, and rice pudding. Such a great deal for a low cost, and it easily was enough food to split into 2-3 meals.',\n",
       "  \"For the life of me I really don't understand why Banjara is as highly rated as it is.The food is BLAND. even medium spice level is more mild than any other Indian food restaurant I've ever been to. The entrees have almost no sauce, it's just meat and/or veg and a tiny amount of sauce. Want a potato curry? Ok here is a bunch of large hard pieces of potato in a tiny amount of sauce. I hadn't had Banjara in a few years and ordered some last night and it's basically the most disappointing Indian food I've had in years. So bland, so boring, not savoury, not rich in flavour, and expensive also! Never again. Only giving 2 stars because at leas the veg pakoras were good.\",\n",
       "  \"I love Banjara! It's impressive how well they cater the flavours at all spice levels and can please both the traditional Indian customers and non Indian palette alike! All items I have tried are great. The butter chicken and karahi lamb were delicious! This is a Toronto staple and most likely the best Indian restaurant around.\",\n",
       "  \"Got delivery during Covid.It's very affordable and you get a lot of food.The food in the pic lasted an entire weekend!Will definitely order again.Oh and last but not least, all the food was delicious!\",\n",
       "  \"Haven't been able to give Yelp enough lovin with everything going on so I think this review is long overdue.Amazing Indian food on the cusp of Korea town. I have come here again and again, and will keep coming back again and again. I've already made plans with friends to visit together once things are better and can't wait! I enjoy variety so I always get the combo platters. All their combo platters come with your choice of main (meat/veggie) along with rice, naan, daal curry, aloo gobi, veggie pakora and ricepudding. For real, you get all this! My go to is the butter chicken but the lamb vidaloo is also pretty awesome. You can also modify the spice level of your dishes. Other than the great food, I've always received friendly service too. A bonus to drivers who know how difficult it is to find parking downtown: psssst there's free parking here. Banjara, you keep doing you. Heartheart\",\n",
       "  'The food is pretty good but the service is terrible and unreliable. We ordered food and I had to call them 2 hours after as it had still not arrived. The staff lied to me saying it had left with the driver, and it actually arrived 30 minutes later stone cold. Embarrassing.',\n",
       "  'I received the wrong order and they blamed the delivery service, yet the bill stapled to the bag had the correct order.When I called them regarding the order they were very rude and dismissive.',\n",
       "  'I suggest checking your order before taking it home, and not ordering on Uber eats. They made 2 mistakes on my Uber ears order: a missing salad and I was missing an order of rice.',\n",
       "  \"Its not often I order take-out Indian but from now on, when \\xa0I do it will Banjara!We opted to change our tastes this weekend by grabbing some good old curry and naan. Banjara was close by and the 5pm hunger pangs meant most places would be less busy.I ordered a whole tandoori chicken, Kahari chicken, naan, and rice. The order was quick and when \\xa0I got home, I was pleasantly surprised to find a side of chutney, papadums, and a small rice dessert in addition to my order, well done guys!!The packaging was awesome, no leaks, food was hot and damn fine in flavour!Portions were huge and well worth the $40 bucks!!Can't believe I waited so long to give them another try, I will be back!!\",\n",
       "  \"I was craving some good butter chicken, and found Banjara on one of BlogTO's top lists for indian food and was praised particularly for its butter chicken, so I had to give it a try. I must say, this was truly phenomenal butter chicken. I ordered the dinner combo which came with various sides like rice, naan, daal, aloo gobi, vegetable pakoras, and rice pudding. Each curry had a unique and in tense blend of deep, pungent and highly developed layers of flavour, and the butter chicken especially was incredible - tender, spicy and rich, and just bursting with a myriad of flavours. The pakoras were crisp and beautifully seasoned, the naan was lightly buttered and salted, perfectly crispy on the outside and soft and fluffy on the inside, and paired perfectly with the curries. Lastly, the rice pudding was a delightfully refreshing end to the meal. Banjara's placement in BlogTO's top list is well deserved and I will definitely be returning whenever I want good Indian food in Toronto.\"],\n",
       " 'review_date': [Timestamp('2021-11-28 00:00:00'),\n",
       "  Timestamp('2021-09-27 00:00:00'),\n",
       "  Timestamp('2021-11-07 00:00:00'),\n",
       "  Timestamp('2021-01-30 00:00:00'),\n",
       "  Timestamp('2020-07-12 00:00:00'),\n",
       "  Timestamp('2021-09-24 00:00:00'),\n",
       "  Timestamp('2021-05-29 00:00:00'),\n",
       "  Timestamp('2021-06-26 00:00:00'),\n",
       "  Timestamp('2019-09-03 00:00:00'),\n",
       "  Timestamp('2019-08-12 00:00:00')],\n",
       " 'review_star_rating': [5.0, 2.0, 4.0, 5.0, 5.0, 1.0, 1.0, 3.0, 5.0, 5.0],\n",
       " 'reviewer_city': ['Pittsburgh',\n",
       "  'Toronto',\n",
       "  'Waterloo',\n",
       "  'Toronto',\n",
       "  'North York',\n",
       "  'Old Toronto',\n",
       "  'Manhattan',\n",
       "  'Old Toronto',\n",
       "  'Vaughan',\n",
       "  'Waterloo'],\n",
       " 'review_useful_count': [0, 0, 0, 1, 5, 1, 2, 0, 1, 2],\n",
       " 'review_funny_count': [0, 0, 0, 0, 1, 0, 0, 0, 1, 0],\n",
       " 'review_cool_count': [0, 0, 0, 0, 3, 0, 1, 0, 1, 0]}"
      ]
     },
     "execution_count": 35,
     "metadata": {},
     "output_type": "execute_result"
    }
   ],
   "source": [
    "get_review_info()"
   ]
  },
  {
   "cell_type": "code",
   "execution_count": 25,
   "id": "eb7b9c32",
   "metadata": {},
   "outputs": [
    {
     "data": {
      "text/plain": [
       "\"\\ncontainers = soup.find_all('div', class_ = 'review__09f24__oHr9V border-color--default__09f24__NPAKY')\\ncontainer0 = containers[0]\\ncontainer0.find('div', class_='i-stars__09f24__foihJ i-stars--regular-5__09f24__fJwXW border-color--default__09f24__NPAKY overflow--hidden__09f24___ayzG').get('aria-label')\\n\\n\""
      ]
     },
     "execution_count": 25,
     "metadata": {},
     "output_type": "execute_result"
    }
   ],
   "source": [
    "'''\n",
    "containers = soup.find_all('div', class_ = 'review__09f24__oHr9V border-color--default__09f24__NPAKY')\n",
    "container0 = containers[0]\n",
    "container0.find('div', class_='i-stars__09f24__foihJ i-stars--regular-5__09f24__fJwXW border-color--default__09f24__NPAKY overflow--hidden__09f24___ayzG').get('aria-label')\n",
    "\n",
    "'''\n"
   ]
  },
  {
   "cell_type": "code",
   "execution_count": 26,
   "id": "f9747eeb",
   "metadata": {},
   "outputs": [],
   "source": [
    "# star_rating = container.find('span',class_ = 'display--inline__09f24__c6N_k border-color--default__09f24__NPAKY').div.get('aria-label')\n",
    "#containers = soup.find_all('div', class_ = 'review__09f24__oHr9V border-color--default__09f24__NPAKY')\n",
    "#container1 = containers[1]\n",
    "#print(container1)\n",
    "#container1.find('span', class_='display--inline__09f24__c6N_k border-color--default__09f24__NPAKY').div.get('aria-label')\n"
   ]
  },
  {
   "cell_type": "code",
   "execution_count": 27,
   "id": "552ca604",
   "metadata": {},
   "outputs": [],
   "source": [
    "#container2 = containers[2]\n",
    "#container2.find('span', class_='display--inline__09f24__c6N_k border-color--default__09f24__NPAKY').div.get('aria-label')"
   ]
  },
  {
   "cell_type": "code",
   "execution_count": 28,
   "id": "316c643c",
   "metadata": {},
   "outputs": [],
   "source": [
    "#container2 = containers[2]\n",
    "#container2.find('span', class_='display--inline__09f24__c6N_k border-color--default__09f24__NPAKY').div['aria-label']\n",
    "    \n",
    "    "
   ]
  }
 ],
 "metadata": {
  "kernelspec": {
   "display_name": "Python 3",
   "language": "python",
   "name": "python3"
  },
  "language_info": {
   "codemirror_mode": {
    "name": "ipython",
    "version": 3
   },
   "file_extension": ".py",
   "mimetype": "text/x-python",
   "name": "python",
   "nbconvert_exporter": "python",
   "pygments_lexer": "ipython3",
   "version": "3.9.5"
  }
 },
 "nbformat": 4,
 "nbformat_minor": 5
}
