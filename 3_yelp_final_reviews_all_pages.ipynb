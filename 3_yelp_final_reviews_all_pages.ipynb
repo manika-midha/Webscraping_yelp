{
 "cells": [
  {
   "cell_type": "code",
   "execution_count": 6,
   "id": "ac280598",
   "metadata": {},
   "outputs": [],
   "source": [
    "from selenium import webdriver\n",
    "from selenium.webdriver.common.keys import Keys\n",
    "\n",
    "from bs4 import BeautifulSoup\n",
    "import requests\n",
    "import pandas as pd"
   ]
  },
  {
   "cell_type": "code",
   "execution_count": 28,
   "id": "e0871148",
   "metadata": {},
   "outputs": [],
   "source": [
    "restaurants_df = pd.read_csv('restaurants.csv')\n",
    "restaurants_df_drop_col = restaurants_df.drop(['Unnamed: 0'], axis=1)\n",
    "restaurants_df_drop_col_remove_dups = restaurants_df_drop_col.drop_duplicates(keep = False)\n",
    "top_ten_rests = restaurants_df_drop_col_remove_dups.sort_values(['restaurant_reviews_count','star_rating'], ascending = (False,False)).head(10)\n",
    "most_popular_rest = top_ten_rests.iloc[3,:]"
   ]
  },
  {
   "cell_type": "code",
   "execution_count": 29,
   "id": "83324254",
   "metadata": {},
   "outputs": [],
   "source": [
    "#returns url of most popular restauramt\n",
    "\n",
    "def return_url(rest_name_lower, rest_name_area_lower):\n",
    "    \n",
    "    rest_name_area_lower_list = rest_name_area_lower.split()\n",
    "    rest_name_list = rest_name_lower.split()\n",
    "    \n",
    "    x = '-'.join(rest_name_list)\n",
    "    y = '+'.join(rest_name_area_lower_list) \n",
    "   \n",
    "    main_url_str = 'https://www.yelp.ca/biz/' + x + '-toronto?osq=' + y\n",
    "    \n",
    "    return f'{main_url_str}'\n",
    "    "
   ]
  },
  {
   "cell_type": "code",
   "execution_count": 30,
   "id": "0c78f173",
   "metadata": {},
   "outputs": [],
   "source": [
    "#get url of most popular restaurant :\n",
    "\n",
    "import requests \n",
    "driver = webdriver.Chrome()\n",
    "\n",
    "rest_name_lower = most_popular_rest['rest_name'].lower()\n",
    "rest_name_area_lower = most_popular_rest['rest_name'].lower() + ' ' + most_popular_rest['restaurant_area'].lower()\n",
    "\n",
    "page_url = return_url(rest_name_lower,rest_name_area_lower)\n",
    "try :\n",
    "    response = requests.get(page_url)\n",
    "    code = response.status_code \n",
    "    if code == 200 :  \n",
    "        driver.get(page_url)\n",
    "        page_source = driver.page_source\n",
    "        soup = BeautifulSoup(page_source)\n",
    "except :\n",
    "    print('Bad request')"
   ]
  },
  {
   "cell_type": "code",
   "execution_count": 31,
   "id": "da07dbe2",
   "metadata": {},
   "outputs": [],
   "source": [
    "#returns all information about all reviews on one page, of the most popular restaurant\n",
    "#in a dict format\n",
    "\n",
    "def get_page_review_info(soup):\n",
    "    \n",
    "    review_dict = {\n",
    "        'review_text':[],\n",
    "        'review_date':[],\n",
    "        'review_star_rating': [],\n",
    "        'reviewer_city': [],\n",
    "        'review_useful_count':[],\n",
    "        'review_funny_count':[],\n",
    "        'review_cool_count':[]\n",
    "    }\n",
    "    \n",
    "    #containers contain all reviews on page 1, one container for each review\n",
    "    #each review container has class - review__09f24__oHr9V border-color--default__09f24__NPAKY,all\n",
    "    #information for a review is contained within this class\n",
    "    containers = soup.find_all('div', class_ = 'review__09f24__oHr9V border-color--default__09f24__NPAKY')\n",
    "\n",
    "    for container in containers :\n",
    "        #get review text :\n",
    "        try :\n",
    "            comment = container.find('span', class_ = 'raw__09f24__T4Ezm').text \n",
    "        except :\n",
    "            comment = '' \n",
    "        review_dict['review_text'].append(comment)\n",
    "        \n",
    "        #get review date :\n",
    "        try:\n",
    "            review_date_str = container.find('span', class_ = 'css-1e4fdj9').text\n",
    "            review_date_formatted = pd.to_datetime(review_date_str,format = '%m/%d/%Y')   \n",
    "        except :\n",
    "            review_date_formatted = ''\n",
    "        review_dict['review_date'].append(review_date_formatted)\n",
    "        \n",
    "        #get star rating\n",
    "        try:\n",
    "            review_star_rating_str = container.find('span',class_='display--inline__09f24__c6N_k border-color--default__09f24__NPAKY').div['aria-label']\n",
    "            review_star_rating_flt = float(review_star_rating_str.split()[0]) \n",
    "        except :\n",
    "            review_star_rating_flt = 0.0 \n",
    "        review_dict['review_star_rating'].append(review_star_rating_flt)\n",
    "        \n",
    "        #get reviewer location \n",
    "        try:\n",
    "            reviewer_location = container.find('span', class_ = 'css-1sufhje').text \n",
    "            reviewer_city = reviewer_location.split(',')[0]\n",
    "        except:\n",
    "            reviewer_city = ''\n",
    "        review_dict['reviewer_city'].append(reviewer_city)\n",
    "        \n",
    "        #get emotions number : useful, funny, cool\n",
    "        notes = container.find_all('span', class_ = 'css-1rw3tz3')\n",
    "        try:\n",
    "            useful_count =  int(notes[0].text.split()[1])\n",
    "        except :\n",
    "             useful_count = 0\n",
    "        review_dict['review_useful_count'].append(useful_count)\n",
    "        \n",
    "        try:\n",
    "            funny_count =  int(notes[1].text.split()[1]) \n",
    "        except :\n",
    "            funny_count = 0 \n",
    "        review_dict['review_funny_count'].append(funny_count)\n",
    "        \n",
    "        try:\n",
    "            cool_count =  int(notes[2].text.split()[1]) \n",
    "        except :\n",
    "            cool_count = 0 \n",
    "        review_dict['review_cool_count'].append(cool_count)\n",
    "        \n",
    "        \n",
    "    return review_dict"
   ]
  },
  {
   "cell_type": "code",
   "execution_count": 92,
   "id": "9667e1a7",
   "metadata": {},
   "outputs": [],
   "source": [
    "#Given a review page number, returns soup for that page\n",
    "import requests \n",
    "import time\n",
    "\n",
    "def return_review_page_soup(page_num):\n",
    "    url_page_num = (page_num - 1)*10 \n",
    "    page_url = f'https://www.yelp.ca/biz/banjara-indian-cuisine-toronto?osq=banjara+indian+cuisine+christie+pits&start={url_page_num}'\n",
    "    try :\n",
    "        response = requests.get(page_url)\n",
    "        code = response.status_code \n",
    "        if code == 200 :\n",
    "            driver.get(page_url)\n",
    "            time.sleep(3)\n",
    "            page_source = driver.page_source\n",
    "            soup_rev_page = BeautifulSoup(page_source)\n",
    "            return soup_rev_page\n",
    "    except :\n",
    "        return 'Bad request'\n",
    "    "
   ]
  },
  {
   "cell_type": "code",
   "execution_count": 97,
   "id": "e971460c",
   "metadata": {},
   "outputs": [
    {
     "name": "stdout",
     "output_type": "stream",
     "text": [
      "getting info from page 1\n",
      "getting info from page 2\n",
      "getting info from page 3\n",
      "getting info from page 4\n",
      "getting info from page 5\n",
      "getting info from page 6\n",
      "getting info from page 7\n",
      "getting info from page 8\n",
      "getting info from page 9\n",
      "getting info from page 10\n",
      "getting info from page 11\n",
      "getting info from page 12\n",
      "getting info from page 13\n",
      "getting info from page 14\n",
      "getting info from page 15\n",
      "getting info from page 16\n",
      "getting info from page 17\n",
      "getting info from page 18\n",
      "getting info from page 19\n",
      "getting info from page 20\n",
      "getting info from page 21\n",
      "getting info from page 22\n",
      "getting info from page 23\n",
      "getting info from page 24\n",
      "getting info from page 25\n",
      "getting info from page 26\n",
      "getting info from page 27\n",
      "getting info from page 28\n",
      "getting info from page 29\n",
      "getting info from page 30\n",
      "getting info from page 31\n",
      "getting info from page 32\n",
      "getting info from page 33\n",
      "getting info from page 34\n",
      "getting info from page 35\n",
      "getting info from page 36\n",
      "getting info from page 37\n",
      "getting info from page 38\n",
      "getting info from page 39\n",
      "getting info from page 40\n",
      "getting info from page 41\n",
      "getting info from page 42\n"
     ]
    }
   ],
   "source": [
    "#gets reviews from each page, converts it into a dataframe and adds this info to a csv\n",
    "\n",
    "#get total num of pages :\n",
    "total_pages = soup.find('div', class_ = 'border-color--default__09f24__NPAKY text-align--center__09f24__fYBGO')\n",
    "total_pages_list = total_pages.find('span', class_ = 'css-1e4fdj9').text.split() #['1','of','24']\n",
    "total_page_count_int = int(total_pages_list[2]) #42\n",
    "\n",
    "\n",
    "master_df_review = pd.DataFrame()\n",
    "for page in range(1,total_page_count_int+1): \n",
    "    \n",
    "    print(f'getting info from page {page}')\n",
    "    \n",
    "    df_page_review = pd.DataFrame()\n",
    "    \n",
    "    soup_rev_page = return_review_page_soup(page) #func call 1, returns soup per page \n",
    "    review_dict_for_page = get_page_review_info(soup_rev_page) #func call 2, returns dict per page\n",
    "    \n",
    "    \n",
    "    df_page_review = pd.DataFrame(review_dict_for_page) #create dataframe from dict per page\n",
    "    master_df_review = master_df_review.append(df_page_review,ignore_index = True)\n",
    "    master_df_review.to_csv('reviews.csv')\n",
    "    \n",
    "    \n",
    "    "
   ]
  },
  {
   "cell_type": "code",
   "execution_count": 1,
   "id": "9a908d17",
   "metadata": {},
   "outputs": [],
   "source": [
    "#convert csv tp a dataframe:\n",
    "import pandas as pd\n",
    "reviews_df = pd.read_csv('reviews.csv')"
   ]
  },
  {
   "cell_type": "code",
   "execution_count": 100,
   "id": "d2b6eeee",
   "metadata": {},
   "outputs": [
    {
     "data": {
      "text/html": [
       "<div>\n",
       "<style scoped>\n",
       "    .dataframe tbody tr th:only-of-type {\n",
       "        vertical-align: middle;\n",
       "    }\n",
       "\n",
       "    .dataframe tbody tr th {\n",
       "        vertical-align: top;\n",
       "    }\n",
       "\n",
       "    .dataframe thead th {\n",
       "        text-align: right;\n",
       "    }\n",
       "</style>\n",
       "<table border=\"1\" class=\"dataframe\">\n",
       "  <thead>\n",
       "    <tr style=\"text-align: right;\">\n",
       "      <th></th>\n",
       "      <th>Unnamed: 0</th>\n",
       "      <th>review_text</th>\n",
       "      <th>review_date</th>\n",
       "      <th>review_star_rating</th>\n",
       "      <th>reviewer_city</th>\n",
       "      <th>review_useful_count</th>\n",
       "      <th>review_funny_count</th>\n",
       "      <th>review_cool_count</th>\n",
       "    </tr>\n",
       "  </thead>\n",
       "  <tbody>\n",
       "    <tr>\n",
       "      <th>410</th>\n",
       "      <td>410</td>\n",
       "      <td>Decent Indian restaurant. The butter chicken l...</td>\n",
       "      <td>2012-09-03</td>\n",
       "      <td>4.0</td>\n",
       "      <td>Toronto</td>\n",
       "      <td>0</td>\n",
       "      <td>0</td>\n",
       "      <td>0</td>\n",
       "    </tr>\n",
       "    <tr>\n",
       "      <th>411</th>\n",
       "      <td>411</td>\n",
       "      <td>We decided to try a local Indian place we had ...</td>\n",
       "      <td>2011-12-23</td>\n",
       "      <td>4.0</td>\n",
       "      <td>Toronto</td>\n",
       "      <td>0</td>\n",
       "      <td>0</td>\n",
       "      <td>0</td>\n",
       "    </tr>\n",
       "    <tr>\n",
       "      <th>412</th>\n",
       "      <td>412</td>\n",
       "      <td>I've only been here once and the food for the ...</td>\n",
       "      <td>2011-02-11</td>\n",
       "      <td>4.0</td>\n",
       "      <td>London</td>\n",
       "      <td>0</td>\n",
       "      <td>0</td>\n",
       "      <td>0</td>\n",
       "    </tr>\n",
       "    <tr>\n",
       "      <th>413</th>\n",
       "      <td>413</td>\n",
       "      <td>Love this place! While I have only ever had th...</td>\n",
       "      <td>2012-02-24</td>\n",
       "      <td>5.0</td>\n",
       "      <td>Toronto</td>\n",
       "      <td>0</td>\n",
       "      <td>0</td>\n",
       "      <td>0</td>\n",
       "    </tr>\n",
       "    <tr>\n",
       "      <th>414</th>\n",
       "      <td>414</td>\n",
       "      <td>Bit of a hole in the wall place that looks lik...</td>\n",
       "      <td>2011-01-17</td>\n",
       "      <td>5.0</td>\n",
       "      <td>Winnipeg</td>\n",
       "      <td>0</td>\n",
       "      <td>0</td>\n",
       "      <td>0</td>\n",
       "    </tr>\n",
       "  </tbody>\n",
       "</table>\n",
       "</div>"
      ],
      "text/plain": [
       "     Unnamed: 0                                        review_text  \\\n",
       "410         410  Decent Indian restaurant. The butter chicken l...   \n",
       "411         411  We decided to try a local Indian place we had ...   \n",
       "412         412  I've only been here once and the food for the ...   \n",
       "413         413  Love this place! While I have only ever had th...   \n",
       "414         414  Bit of a hole in the wall place that looks lik...   \n",
       "\n",
       "    review_date  review_star_rating reviewer_city  review_useful_count  \\\n",
       "410  2012-09-03                 4.0       Toronto                    0   \n",
       "411  2011-12-23                 4.0       Toronto                    0   \n",
       "412  2011-02-11                 4.0        London                    0   \n",
       "413  2012-02-24                 5.0       Toronto                    0   \n",
       "414  2011-01-17                 5.0      Winnipeg                    0   \n",
       "\n",
       "     review_funny_count  review_cool_count  \n",
       "410                   0                  0  \n",
       "411                   0                  0  \n",
       "412                   0                  0  \n",
       "413                   0                  0  \n",
       "414                   0                  0  "
      ]
     },
     "execution_count": 100,
     "metadata": {},
     "output_type": "execute_result"
    }
   ],
   "source": [
    "reviews_df.tail()"
   ]
  },
  {
   "cell_type": "code",
   "execution_count": 101,
   "id": "e698d1a4",
   "metadata": {},
   "outputs": [
    {
     "name": "stdout",
     "output_type": "stream",
     "text": [
      "<class 'pandas.core.frame.DataFrame'>\n",
      "RangeIndex: 415 entries, 0 to 414\n",
      "Data columns (total 8 columns):\n",
      " #   Column               Non-Null Count  Dtype  \n",
      "---  ------               --------------  -----  \n",
      " 0   Unnamed: 0           415 non-null    int64  \n",
      " 1   review_text          415 non-null    object \n",
      " 2   review_date          415 non-null    object \n",
      " 3   review_star_rating   415 non-null    float64\n",
      " 4   reviewer_city        415 non-null    object \n",
      " 5   review_useful_count  415 non-null    int64  \n",
      " 6   review_funny_count   415 non-null    int64  \n",
      " 7   review_cool_count    415 non-null    int64  \n",
      "dtypes: float64(1), int64(4), object(3)\n",
      "memory usage: 26.1+ KB\n"
     ]
    }
   ],
   "source": [
    "reviews_df.info()"
   ]
  },
  {
   "cell_type": "code",
   "execution_count": 2,
   "id": "200c3c56",
   "metadata": {},
   "outputs": [],
   "source": [
    "#drop Unnamed:0 column\n",
    "reviews_df_drop_col = reviews_df.drop(['Unnamed: 0'], axis=1)"
   ]
  },
  {
   "cell_type": "code",
   "execution_count": 106,
   "id": "401040b7",
   "metadata": {},
   "outputs": [
    {
     "data": {
      "text/html": [
       "<div>\n",
       "<style scoped>\n",
       "    .dataframe tbody tr th:only-of-type {\n",
       "        vertical-align: middle;\n",
       "    }\n",
       "\n",
       "    .dataframe tbody tr th {\n",
       "        vertical-align: top;\n",
       "    }\n",
       "\n",
       "    .dataframe thead th {\n",
       "        text-align: right;\n",
       "    }\n",
       "</style>\n",
       "<table border=\"1\" class=\"dataframe\">\n",
       "  <thead>\n",
       "    <tr style=\"text-align: right;\">\n",
       "      <th></th>\n",
       "      <th>review_text</th>\n",
       "      <th>review_date</th>\n",
       "      <th>review_star_rating</th>\n",
       "      <th>reviewer_city</th>\n",
       "      <th>review_useful_count</th>\n",
       "      <th>review_funny_count</th>\n",
       "      <th>review_cool_count</th>\n",
       "    </tr>\n",
       "  </thead>\n",
       "  <tbody>\n",
       "    <tr>\n",
       "      <th>410</th>\n",
       "      <td>Decent Indian restaurant. The butter chicken l...</td>\n",
       "      <td>2012-09-03</td>\n",
       "      <td>4.0</td>\n",
       "      <td>Toronto</td>\n",
       "      <td>0</td>\n",
       "      <td>0</td>\n",
       "      <td>0</td>\n",
       "    </tr>\n",
       "    <tr>\n",
       "      <th>411</th>\n",
       "      <td>We decided to try a local Indian place we had ...</td>\n",
       "      <td>2011-12-23</td>\n",
       "      <td>4.0</td>\n",
       "      <td>Toronto</td>\n",
       "      <td>0</td>\n",
       "      <td>0</td>\n",
       "      <td>0</td>\n",
       "    </tr>\n",
       "    <tr>\n",
       "      <th>412</th>\n",
       "      <td>I've only been here once and the food for the ...</td>\n",
       "      <td>2011-02-11</td>\n",
       "      <td>4.0</td>\n",
       "      <td>London</td>\n",
       "      <td>0</td>\n",
       "      <td>0</td>\n",
       "      <td>0</td>\n",
       "    </tr>\n",
       "    <tr>\n",
       "      <th>413</th>\n",
       "      <td>Love this place! While I have only ever had th...</td>\n",
       "      <td>2012-02-24</td>\n",
       "      <td>5.0</td>\n",
       "      <td>Toronto</td>\n",
       "      <td>0</td>\n",
       "      <td>0</td>\n",
       "      <td>0</td>\n",
       "    </tr>\n",
       "    <tr>\n",
       "      <th>414</th>\n",
       "      <td>Bit of a hole in the wall place that looks lik...</td>\n",
       "      <td>2011-01-17</td>\n",
       "      <td>5.0</td>\n",
       "      <td>Winnipeg</td>\n",
       "      <td>0</td>\n",
       "      <td>0</td>\n",
       "      <td>0</td>\n",
       "    </tr>\n",
       "  </tbody>\n",
       "</table>\n",
       "</div>"
      ],
      "text/plain": [
       "                                           review_text review_date  \\\n",
       "410  Decent Indian restaurant. The butter chicken l...  2012-09-03   \n",
       "411  We decided to try a local Indian place we had ...  2011-12-23   \n",
       "412  I've only been here once and the food for the ...  2011-02-11   \n",
       "413  Love this place! While I have only ever had th...  2012-02-24   \n",
       "414  Bit of a hole in the wall place that looks lik...  2011-01-17   \n",
       "\n",
       "     review_star_rating reviewer_city  review_useful_count  \\\n",
       "410                 4.0       Toronto                    0   \n",
       "411                 4.0       Toronto                    0   \n",
       "412                 4.0        London                    0   \n",
       "413                 5.0       Toronto                    0   \n",
       "414                 5.0      Winnipeg                    0   \n",
       "\n",
       "     review_funny_count  review_cool_count  \n",
       "410                   0                  0  \n",
       "411                   0                  0  \n",
       "412                   0                  0  \n",
       "413                   0                  0  \n",
       "414                   0                  0  "
      ]
     },
     "execution_count": 106,
     "metadata": {},
     "output_type": "execute_result"
    }
   ],
   "source": [
    "reviews_df_drop_col.tail()"
   ]
  },
  {
   "cell_type": "code",
   "execution_count": 109,
   "id": "2e3892f5",
   "metadata": {},
   "outputs": [
    {
     "data": {
      "text/plain": [
       "0"
      ]
     },
     "execution_count": 109,
     "metadata": {},
     "output_type": "execute_result"
    }
   ],
   "source": [
    "#check for dulicates :\n",
    "#count number of duplicates : no duplicates\n",
    "reviews_df_drop_col.duplicated().sum()\n",
    "   "
   ]
  },
  {
   "cell_type": "code",
   "execution_count": 3,
   "id": "5b6bb2d8",
   "metadata": {},
   "outputs": [],
   "source": [
    "#convert date column from str to datetime format :\n",
    "reviews_df_drop_col['review_date']= pd.to_datetime(reviews_df_drop_col['review_date'])"
   ]
  },
  {
   "cell_type": "code",
   "execution_count": 4,
   "id": "f86f81ab",
   "metadata": {},
   "outputs": [
    {
     "data": {
      "text/html": [
       "<div>\n",
       "<style scoped>\n",
       "    .dataframe tbody tr th:only-of-type {\n",
       "        vertical-align: middle;\n",
       "    }\n",
       "\n",
       "    .dataframe tbody tr th {\n",
       "        vertical-align: top;\n",
       "    }\n",
       "\n",
       "    .dataframe thead th {\n",
       "        text-align: right;\n",
       "    }\n",
       "</style>\n",
       "<table border=\"1\" class=\"dataframe\">\n",
       "  <thead>\n",
       "    <tr style=\"text-align: right;\">\n",
       "      <th></th>\n",
       "      <th>review_text</th>\n",
       "      <th>review_date</th>\n",
       "      <th>review_star_rating</th>\n",
       "      <th>reviewer_city</th>\n",
       "      <th>review_useful_count</th>\n",
       "      <th>review_funny_count</th>\n",
       "      <th>review_cool_count</th>\n",
       "    </tr>\n",
       "  </thead>\n",
       "  <tbody>\n",
       "    <tr>\n",
       "      <th>410</th>\n",
       "      <td>Decent Indian restaurant. The butter chicken l...</td>\n",
       "      <td>2012-09-03</td>\n",
       "      <td>4.0</td>\n",
       "      <td>Toronto</td>\n",
       "      <td>0</td>\n",
       "      <td>0</td>\n",
       "      <td>0</td>\n",
       "    </tr>\n",
       "    <tr>\n",
       "      <th>411</th>\n",
       "      <td>We decided to try a local Indian place we had ...</td>\n",
       "      <td>2011-12-23</td>\n",
       "      <td>4.0</td>\n",
       "      <td>Toronto</td>\n",
       "      <td>0</td>\n",
       "      <td>0</td>\n",
       "      <td>0</td>\n",
       "    </tr>\n",
       "    <tr>\n",
       "      <th>412</th>\n",
       "      <td>I've only been here once and the food for the ...</td>\n",
       "      <td>2011-02-11</td>\n",
       "      <td>4.0</td>\n",
       "      <td>London</td>\n",
       "      <td>0</td>\n",
       "      <td>0</td>\n",
       "      <td>0</td>\n",
       "    </tr>\n",
       "    <tr>\n",
       "      <th>413</th>\n",
       "      <td>Love this place! While I have only ever had th...</td>\n",
       "      <td>2012-02-24</td>\n",
       "      <td>5.0</td>\n",
       "      <td>Toronto</td>\n",
       "      <td>0</td>\n",
       "      <td>0</td>\n",
       "      <td>0</td>\n",
       "    </tr>\n",
       "    <tr>\n",
       "      <th>414</th>\n",
       "      <td>Bit of a hole in the wall place that looks lik...</td>\n",
       "      <td>2011-01-17</td>\n",
       "      <td>5.0</td>\n",
       "      <td>Winnipeg</td>\n",
       "      <td>0</td>\n",
       "      <td>0</td>\n",
       "      <td>0</td>\n",
       "    </tr>\n",
       "  </tbody>\n",
       "</table>\n",
       "</div>"
      ],
      "text/plain": [
       "                                           review_text review_date  \\\n",
       "410  Decent Indian restaurant. The butter chicken l...  2012-09-03   \n",
       "411  We decided to try a local Indian place we had ...  2011-12-23   \n",
       "412  I've only been here once and the food for the ...  2011-02-11   \n",
       "413  Love this place! While I have only ever had th...  2012-02-24   \n",
       "414  Bit of a hole in the wall place that looks lik...  2011-01-17   \n",
       "\n",
       "     review_star_rating reviewer_city  review_useful_count  \\\n",
       "410                 4.0       Toronto                    0   \n",
       "411                 4.0       Toronto                    0   \n",
       "412                 4.0        London                    0   \n",
       "413                 5.0       Toronto                    0   \n",
       "414                 5.0      Winnipeg                    0   \n",
       "\n",
       "     review_funny_count  review_cool_count  \n",
       "410                   0                  0  \n",
       "411                   0                  0  \n",
       "412                   0                  0  \n",
       "413                   0                  0  \n",
       "414                   0                  0  "
      ]
     },
     "execution_count": 4,
     "metadata": {},
     "output_type": "execute_result"
    }
   ],
   "source": [
    "reviews_df_drop_col.tail()"
   ]
  },
  {
   "cell_type": "code",
   "execution_count": 5,
   "id": "2dca9533",
   "metadata": {},
   "outputs": [
    {
     "name": "stdout",
     "output_type": "stream",
     "text": [
      "<class 'pandas.core.frame.DataFrame'>\n",
      "RangeIndex: 415 entries, 0 to 414\n",
      "Data columns (total 7 columns):\n",
      " #   Column               Non-Null Count  Dtype         \n",
      "---  ------               --------------  -----         \n",
      " 0   review_text          415 non-null    object        \n",
      " 1   review_date          415 non-null    datetime64[ns]\n",
      " 2   review_star_rating   415 non-null    float64       \n",
      " 3   reviewer_city        415 non-null    object        \n",
      " 4   review_useful_count  415 non-null    int64         \n",
      " 5   review_funny_count   415 non-null    int64         \n",
      " 6   review_cool_count    415 non-null    int64         \n",
      "dtypes: datetime64[ns](1), float64(1), int64(3), object(2)\n",
      "memory usage: 22.8+ KB\n"
     ]
    }
   ],
   "source": [
    "reviews_df_drop_col.info()"
   ]
  },
  {
   "cell_type": "code",
   "execution_count": null,
   "id": "7078e7aa",
   "metadata": {},
   "outputs": [],
   "source": [
    "#start analysis here :"
   ]
  },
  {
   "cell_type": "code",
   "execution_count": 153,
   "id": "774361df",
   "metadata": {},
   "outputs": [
    {
     "data": {
      "text/html": [
       "<div>\n",
       "<style scoped>\n",
       "    .dataframe tbody tr th:only-of-type {\n",
       "        vertical-align: middle;\n",
       "    }\n",
       "\n",
       "    .dataframe tbody tr th {\n",
       "        vertical-align: top;\n",
       "    }\n",
       "\n",
       "    .dataframe thead th {\n",
       "        text-align: right;\n",
       "    }\n",
       "</style>\n",
       "<table border=\"1\" class=\"dataframe\">\n",
       "  <thead>\n",
       "    <tr style=\"text-align: right;\">\n",
       "      <th></th>\n",
       "      <th>review_star_rating</th>\n",
       "      <th>review_useful_count</th>\n",
       "      <th>review_funny_count</th>\n",
       "      <th>review_cool_count</th>\n",
       "    </tr>\n",
       "  </thead>\n",
       "  <tbody>\n",
       "    <tr>\n",
       "      <th>count</th>\n",
       "      <td>415.000000</td>\n",
       "      <td>415.000000</td>\n",
       "      <td>415.00000</td>\n",
       "      <td>415.000000</td>\n",
       "    </tr>\n",
       "    <tr>\n",
       "      <th>mean</th>\n",
       "      <td>3.727711</td>\n",
       "      <td>0.985542</td>\n",
       "      <td>0.59759</td>\n",
       "      <td>0.375904</td>\n",
       "    </tr>\n",
       "    <tr>\n",
       "      <th>std</th>\n",
       "      <td>1.237724</td>\n",
       "      <td>1.784199</td>\n",
       "      <td>1.56486</td>\n",
       "      <td>1.004049</td>\n",
       "    </tr>\n",
       "    <tr>\n",
       "      <th>min</th>\n",
       "      <td>1.000000</td>\n",
       "      <td>0.000000</td>\n",
       "      <td>0.00000</td>\n",
       "      <td>0.000000</td>\n",
       "    </tr>\n",
       "    <tr>\n",
       "      <th>25%</th>\n",
       "      <td>3.000000</td>\n",
       "      <td>0.000000</td>\n",
       "      <td>0.00000</td>\n",
       "      <td>0.000000</td>\n",
       "    </tr>\n",
       "    <tr>\n",
       "      <th>50%</th>\n",
       "      <td>4.000000</td>\n",
       "      <td>0.000000</td>\n",
       "      <td>0.00000</td>\n",
       "      <td>0.000000</td>\n",
       "    </tr>\n",
       "    <tr>\n",
       "      <th>75%</th>\n",
       "      <td>5.000000</td>\n",
       "      <td>1.000000</td>\n",
       "      <td>1.00000</td>\n",
       "      <td>0.000000</td>\n",
       "    </tr>\n",
       "    <tr>\n",
       "      <th>max</th>\n",
       "      <td>5.000000</td>\n",
       "      <td>13.000000</td>\n",
       "      <td>21.00000</td>\n",
       "      <td>8.000000</td>\n",
       "    </tr>\n",
       "  </tbody>\n",
       "</table>\n",
       "</div>"
      ],
      "text/plain": [
       "       review_star_rating  review_useful_count  review_funny_count  review_cool_count\n",
       "count  415.000000          415.000000           415.00000           415.000000       \n",
       "mean   3.727711            0.985542             0.59759             0.375904         \n",
       "std    1.237724            1.784199             1.56486             1.004049         \n",
       "min    1.000000            0.000000             0.00000             0.000000         \n",
       "25%    3.000000            0.000000             0.00000             0.000000         \n",
       "50%    4.000000            0.000000             0.00000             0.000000         \n",
       "75%    5.000000            1.000000             1.00000             0.000000         \n",
       "max    5.000000            13.000000            21.00000            8.000000         "
      ]
     },
     "execution_count": 153,
     "metadata": {},
     "output_type": "execute_result"
    }
   ],
   "source": [
    "reviews_df_drop_col.describe()\n",
    "#Avg star rating is 3.7\n",
    "#min star rating is 1 and max is 5"
   ]
  },
  {
   "cell_type": "code",
   "execution_count": 31,
   "id": "d924a45f",
   "metadata": {},
   "outputs": [
    {
     "data": {
      "text/plain": [
       "5.0    137\n",
       "4.0    134\n",
       "3.0    71 \n",
       "2.0    40 \n",
       "1.0    33 \n",
       "Name: review_star_rating, dtype: int64"
      ]
     },
     "execution_count": 31,
     "metadata": {},
     "output_type": "execute_result"
    }
   ],
   "source": [
    "reviews_df_drop_col['review_star_rating'].value_counts()"
   ]
  },
  {
   "cell_type": "code",
   "execution_count": 154,
   "id": "eff1bfef",
   "metadata": {},
   "outputs": [
    {
     "data": {
      "image/png": "[encoded data removed]",
      "text/plain": [
       "<Figure size 360x360 with 1 Axes>"
      ]
     },
     "metadata": {
      "needs_background": "light"
     },
     "output_type": "display_data"
    },
    {
     "data": {
      "text/plain": [
       "'\\napproximate counts :\\n140 - 5 star #(33.73%)\\n130 - 4 star #(31.3%)\\n70 - 3 star #(16.87%)\\n40 - 2 star\\n30 - 1 star\\n\\n'"
      ]
     },
     "execution_count": 154,
     "metadata": {},
     "output_type": "execute_result"
    }
   ],
   "source": [
    "#plot histogram : number of reviews with a specific rating :\n",
    "import matplotlib.pyplot as plt \n",
    "%matplotlib inline\n",
    "\n",
    "fig, ax = plt.subplots(figsize =(5, 5))\n",
    "plt.hist(reviews_df_drop_col['review_star_rating'],bins = 20)\n",
    "plt.xlabel('Star rating of review',fontsize=10)\n",
    "plt.ylabel('Number of reviews',fontsize=10)\n",
    "plt.title('Number of reviews with rating',fontsize=12)\n",
    "\n",
    "plt.show();\n",
    "\n",
    "'''\n",
    "exact counts :\n",
    "137 - 5 star \n",
    "134 - 4 star \n",
    "71 - 3 star \n",
    "40 - 2 star\n",
    "33 - 1 star\n",
    "\n",
    "'''"
   ]
  },
  {
   "cell_type": "code",
   "execution_count": 155,
   "id": "aeb7ccdd",
   "metadata": {},
   "outputs": [
    {
     "data": {
      "text/html": [
       "<div>\n",
       "<style scoped>\n",
       "    .dataframe tbody tr th:only-of-type {\n",
       "        vertical-align: middle;\n",
       "    }\n",
       "\n",
       "    .dataframe tbody tr th {\n",
       "        vertical-align: top;\n",
       "    }\n",
       "\n",
       "    .dataframe thead th {\n",
       "        text-align: right;\n",
       "    }\n",
       "</style>\n",
       "<table border=\"1\" class=\"dataframe\">\n",
       "  <thead>\n",
       "    <tr style=\"text-align: right;\">\n",
       "      <th></th>\n",
       "      <th>review_text</th>\n",
       "      <th>review_date</th>\n",
       "      <th>review_star_rating</th>\n",
       "      <th>reviewer_city</th>\n",
       "      <th>review_useful_count</th>\n",
       "      <th>review_funny_count</th>\n",
       "      <th>review_cool_count</th>\n",
       "    </tr>\n",
       "  </thead>\n",
       "  <tbody>\n",
       "    <tr>\n",
       "      <th>0</th>\n",
       "      <td>Went here for my first meal in Toronto and it did not disappoint. I got a veggie combo- it came with palak paneer, aloo gobi, plain naan, rice, onion pakora, daal, and rice pudding. Such a great deal for a low cost, and it easily was enough food to split into 2-3 meals.</td>\n",
       "      <td>2021-11-28</td>\n",
       "      <td>5.0</td>\n",
       "      <td>Pittsburgh</td>\n",
       "      <td>0</td>\n",
       "      <td>0</td>\n",
       "      <td>0</td>\n",
       "    </tr>\n",
       "    <tr>\n",
       "      <th>1</th>\n",
       "      <td>For the life of me I really don't understand why Banjara is as highly rated as it is.The food is BLAND. even medium spice level is more mild than any other Indian food restaurant I've ever been to. The entrees have almost no sauce, it's just meat and/or veg and a tiny amount of sauce. Want a potato curry? Ok here is a bunch of large hard pieces of potato in a tiny amount of sauce. I hadn't had Banjara in a few years and ordered some last night and it's basically the most disappointing Indian food I've had in years. So bland, so boring, not savoury, not rich in flavour, and expensive also! Never again. Only giving 2 stars because at leas the veg pakoras were good.</td>\n",
       "      <td>2021-09-27</td>\n",
       "      <td>2.0</td>\n",
       "      <td>Toronto</td>\n",
       "      <td>0</td>\n",
       "      <td>0</td>\n",
       "      <td>0</td>\n",
       "    </tr>\n",
       "    <tr>\n",
       "      <th>2</th>\n",
       "      <td>I love Banjara! It's impressive how well they cater the flavours at all spice levels and can please both the traditional Indian customers and non Indian palette alike! All items I have tried are great. The butter chicken and karahi lamb were delicious! This is a Toronto staple and most likely the best Indian restaurant around.</td>\n",
       "      <td>2021-11-07</td>\n",
       "      <td>4.0</td>\n",
       "      <td>Waterloo</td>\n",
       "      <td>0</td>\n",
       "      <td>0</td>\n",
       "      <td>0</td>\n",
       "    </tr>\n",
       "    <tr>\n",
       "      <th>3</th>\n",
       "      <td>Got delivery during Covid.It's very affordable and you get a lot of food.The food in the pic lasted an entire weekend!Will definitely order again.Oh and last but not least, all the food was delicious!</td>\n",
       "      <td>2021-01-30</td>\n",
       "      <td>5.0</td>\n",
       "      <td>Toronto</td>\n",
       "      <td>1</td>\n",
       "      <td>0</td>\n",
       "      <td>0</td>\n",
       "    </tr>\n",
       "    <tr>\n",
       "      <th>4</th>\n",
       "      <td>Haven't been able to give Yelp enough lovin with everything going on so I think this review is long overdue.Amazing Indian food on the cusp of Korea town. I have come here again and again, and will keep coming back again and again. I've already made plans with friends to visit together once things are better and can't wait! I enjoy variety so I always get the combo platters. All their combo platters come with your choice of main (meat/veggie) along with rice, naan, daal curry, aloo gobi, veggie pakora and ricepudding. For real, you get all this! My go to is the butter chicken but the lamb vidaloo is also pretty awesome. You can also modify the spice level of your dishes. Other than the great food, I've always received friendly service too. A bonus to drivers who know how difficult it is to find parking downtown: psssst there's free parking here. Banjara, you keep doing you. Heartheart</td>\n",
       "      <td>2020-07-12</td>\n",
       "      <td>5.0</td>\n",
       "      <td>North York</td>\n",
       "      <td>5</td>\n",
       "      <td>1</td>\n",
       "      <td>3</td>\n",
       "    </tr>\n",
       "  </tbody>\n",
       "</table>\n",
       "</div>"
      ],
      "text/plain": [
       "                                                                                                                                                                                                                                                                                                                                                                                                                                                                                                                                                                                                                                                                                                                                                                                                                                                                                                                         review_text review_date  review_star_rating reviewer_city  review_useful_count  review_funny_count  \\\n",
       "0  Went here for my first meal in Toronto and it did not disappoint. I got a veggie combo- it came with palak paneer, aloo gobi, plain naan, rice, onion pakora, daal, and rice pudding. Such a great deal for a low cost, and it easily was enough food to split into 2-3 meals.                                                                                                                                                                                                                                                                                                                                                                                                                                                                                                                                                                                                                                                    2021-11-28   5.0                 Pittsburgh    0                    0                    \n",
       "1  For the life of me I really don't understand why Banjara is as highly rated as it is.The food is BLAND. even medium spice level is more mild than any other Indian food restaurant I've ever been to. The entrees have almost no sauce, it's just meat and/or veg and a tiny amount of sauce. Want a potato curry? Ok here is a bunch of large hard pieces of potato in a tiny amount of sauce. I hadn't had Banjara in a few years and ordered some last night and it's basically the most disappointing Indian food I've had in years. So bland, so boring, not savoury, not rich in flavour, and expensive also! Never again. Only giving 2 stars because at leas the veg pakoras were good.                                                                                                                                                                                                                                   2021-09-27   2.0                 Toronto       0                    0                    \n",
       "2  I love Banjara! It's impressive how well they cater the flavours at all spice levels and can please both the traditional Indian customers and non Indian palette alike! All items I have tried are great. The butter chicken and karahi lamb were delicious! This is a Toronto staple and most likely the best Indian restaurant around.                                                                                                                                                                                                                                                                                                                                                                                                                                                                                                                                                                                          2021-11-07   4.0                 Waterloo      0                    0                    \n",
       "3  Got delivery during Covid.It's very affordable and you get a lot of food.The food in the pic lasted an entire weekend!Will definitely order again.Oh and last but not least, all the food was delicious!                                                                                                                                                                                                                                                                                                                                                                                                                                                                                                                                                                                                                                                                                                                          2021-01-30   5.0                 Toronto       1                    0                    \n",
       "4  Haven't been able to give Yelp enough lovin with everything going on so I think this review is long overdue.Amazing Indian food on the cusp of Korea town. I have come here again and again, and will keep coming back again and again. I've already made plans with friends to visit together once things are better and can't wait! I enjoy variety so I always get the combo platters. All their combo platters come with your choice of main (meat/veggie) along with rice, naan, daal curry, aloo gobi, veggie pakora and ricepudding. For real, you get all this! My go to is the butter chicken but the lamb vidaloo is also pretty awesome. You can also modify the spice level of your dishes. Other than the great food, I've always received friendly service too. A bonus to drivers who know how difficult it is to find parking downtown: psssst there's free parking here. Banjara, you keep doing you. Heartheart 2020-07-12   5.0                 North York    5                    1                    \n",
       "\n",
       "   review_cool_count  \n",
       "0  0                  \n",
       "1  0                  \n",
       "2  0                  \n",
       "3  0                  \n",
       "4  3                  "
      ]
     },
     "execution_count": 155,
     "metadata": {},
     "output_type": "execute_result"
    }
   ],
   "source": [
    "reviews_df_drop_col.head()"
   ]
  },
  {
   "cell_type": "code",
   "execution_count": 40,
   "id": "232ad169",
   "metadata": {},
   "outputs": [
    {
     "data": {
      "text/plain": [
       "Toronto          251\n",
       "Old Toronto      18 \n",
       "Mississauga      7  \n",
       "Markham          6  \n",
       "North York       6  \n",
       "London           6  \n",
       "New York         5  \n",
       "Vancouver        5  \n",
       "Etobicoke        4  \n",
       "Downtown Core    4  \n",
       "Name: reviewer_city, dtype: int64"
      ]
     },
     "execution_count": 40,
     "metadata": {},
     "output_type": "execute_result"
    }
   ],
   "source": [
    "#count of reviews by location of reviewer - top 10:\n",
    "reviews_df_drop_col['reviewer_city'].value_counts().head(10)"
   ]
  },
  {
   "cell_type": "code",
   "execution_count": 41,
   "id": "3f360670",
   "metadata": {},
   "outputs": [
    {
     "data": {
      "text/plain": [
       "Text(0, 0.5, 'Number of reviews')"
      ]
     },
     "execution_count": 41,
     "metadata": {},
     "output_type": "execute_result"
    },
    {
     "data": {
      "image/png": "[encoded data removed]",
      "text/plain": [
       "<Figure size 432x288 with 1 Axes>"
      ]
     },
     "metadata": {
      "needs_background": "light"
     },
     "output_type": "display_data"
    }
   ],
   "source": [
    "#histogram :\n",
    "import matplotlib.pyplot as plt \n",
    "%matplotlib inline\n",
    "\n",
    "reviews_df_drop_col['reviewer_city'].value_counts().head(10).plot(kind='bar',title = 'Number of reviews by city')\n",
    "plt.xlabel('City',fontsize = 10)\n",
    "plt.xticks(rotation = 45)\n",
    "plt.ylabel('Number of reviews',fontsize = 10)"
   ]
  },
  {
   "cell_type": "code",
   "execution_count": 24,
   "id": "d5da1d7f",
   "metadata": {},
   "outputs": [
    {
     "name": "stderr",
     "output_type": "stream",
     "text": [
      "<ipython-input-24-6cb49df504ea>:2: FutureWarning: Passing a negative integer is deprecated in version 1.0 and will not be supported in future version. Instead, use None to not limit the column width.\n",
      "  pd.set_option('display.max_colwidth', -1)\n"
     ]
    },
    {
     "data": {
      "text/html": [
       "<div>\n",
       "<style scoped>\n",
       "    .dataframe tbody tr th:only-of-type {\n",
       "        vertical-align: middle;\n",
       "    }\n",
       "\n",
       "    .dataframe tbody tr th {\n",
       "        vertical-align: top;\n",
       "    }\n",
       "\n",
       "    .dataframe thead th {\n",
       "        text-align: right;\n",
       "    }\n",
       "</style>\n",
       "<table border=\"1\" class=\"dataframe\">\n",
       "  <thead>\n",
       "    <tr style=\"text-align: right;\">\n",
       "      <th></th>\n",
       "      <th>review_text</th>\n",
       "      <th>review_date</th>\n",
       "      <th>review_star_rating</th>\n",
       "      <th>reviewer_city</th>\n",
       "      <th>review_useful_count</th>\n",
       "      <th>review_funny_count</th>\n",
       "      <th>review_cool_count</th>\n",
       "      <th>review_year</th>\n",
       "    </tr>\n",
       "  </thead>\n",
       "  <tbody>\n",
       "    <tr>\n",
       "      <th>0</th>\n",
       "      <td>Went here for my first meal in Toronto and it did not disappoint. I got a veggie combo- it came with palak paneer, aloo gobi, plain naan, rice, onion pakora, daal, and rice pudding. Such a great deal for a low cost, and it easily was enough food to split into 2-3 meals.</td>\n",
       "      <td>2021-11-28</td>\n",
       "      <td>5.0</td>\n",
       "      <td>Pittsburgh</td>\n",
       "      <td>0</td>\n",
       "      <td>0</td>\n",
       "      <td>0</td>\n",
       "      <td>2021</td>\n",
       "    </tr>\n",
       "  </tbody>\n",
       "</table>\n",
       "</div>"
      ],
      "text/plain": [
       "                                                                                                                                                                                                                                                                      review_text  \\\n",
       "0  Went here for my first meal in Toronto and it did not disappoint. I got a veggie combo- it came with palak paneer, aloo gobi, plain naan, rice, onion pakora, daal, and rice pudding. Such a great deal for a low cost, and it easily was enough food to split into 2-3 meals.   \n",
       "\n",
       "  review_date  review_star_rating reviewer_city  review_useful_count  \\\n",
       "0 2021-11-28   5.0                 Pittsburgh    0                     \n",
       "\n",
       "   review_funny_count  review_cool_count  review_year  \n",
       "0  0                   0                  2021         "
      ]
     },
     "execution_count": 24,
     "metadata": {},
     "output_type": "execute_result"
    }
   ],
   "source": [
    "#latest review :\n",
    "pd.set_option('display.max_colwidth', -1) \n",
    "reviews_df_drop_col.sort_values(by = ['review_date'],ascending = False).head(1)\n",
    "#latest review was on 21st November 2021...which means people are still going to this place."
   ]
  },
  {
   "cell_type": "code",
   "execution_count": 157,
   "id": "761543d4",
   "metadata": {},
   "outputs": [
    {
     "name": "stderr",
     "output_type": "stream",
     "text": [
      "<ipython-input-157-43d9fbebdb79>:2: FutureWarning: Passing a negative integer is deprecated in version 1.0 and will not be supported in future version. Instead, use None to not limit the column width.\n",
      "  pd.set_option('display.max_colwidth', -1)\n"
     ]
    },
    {
     "data": {
      "text/html": [
       "<div>\n",
       "<style scoped>\n",
       "    .dataframe tbody tr th:only-of-type {\n",
       "        vertical-align: middle;\n",
       "    }\n",
       "\n",
       "    .dataframe tbody tr th {\n",
       "        vertical-align: top;\n",
       "    }\n",
       "\n",
       "    .dataframe thead th {\n",
       "        text-align: right;\n",
       "    }\n",
       "</style>\n",
       "<table border=\"1\" class=\"dataframe\">\n",
       "  <thead>\n",
       "    <tr style=\"text-align: right;\">\n",
       "      <th></th>\n",
       "      <th>review_text</th>\n",
       "      <th>review_date</th>\n",
       "      <th>review_star_rating</th>\n",
       "      <th>reviewer_city</th>\n",
       "      <th>review_useful_count</th>\n",
       "      <th>review_funny_count</th>\n",
       "      <th>review_cool_count</th>\n",
       "    </tr>\n",
       "  </thead>\n",
       "  <tbody>\n",
       "    <tr>\n",
       "      <th>27</th>\n",
       "      <td>Banjara, the perfume of Christie Pits. The thing about Indian food for me, is that I crave it, and when I'm eating it the aromas are beautiful... but the smell of other peoples' vindaloos, curries and paneers often turn me off. So when I lived near Banjara and got a whiff when the wind changed, I wasn't into it... but now that it's not part of my day to day life, man do I want it. I want it all of the time. Their dine in experience, is a red velvet treat, but I usually go for delivery. Delicious, delicious tandoor straight to my door.</td>\n",
       "      <td>2015-07-16</td>\n",
       "      <td>4.0</td>\n",
       "      <td>Toronto</td>\n",
       "      <td>13</td>\n",
       "      <td>10</td>\n",
       "      <td>8</td>\n",
       "    </tr>\n",
       "  </tbody>\n",
       "</table>\n",
       "</div>"
      ],
      "text/plain": [
       "                                                                                                                                                                                                                                                                                                                                                                                                                                                                                                                                                     review_text review_date  review_star_rating reviewer_city  review_useful_count  review_funny_count  review_cool_count\n",
       "27  Banjara, the perfume of Christie Pits. The thing about Indian food for me, is that I crave it, and when I'm eating it the aromas are beautiful... but the smell of other peoples' vindaloos, curries and paneers often turn me off. So when I lived near Banjara and got a whiff when the wind changed, I wasn't into it... but now that it's not part of my day to day life, man do I want it. I want it all of the time. Their dine in experience, is a red velvet treat, but I usually go for delivery. Delicious, delicious tandoor straight to my door. 2015-07-16   4.0                 Toronto       13                   10                  8                "
      ]
     },
     "execution_count": 157,
     "metadata": {},
     "output_type": "execute_result"
    }
   ],
   "source": [
    "#most useful review and cool review as well\n",
    "pd.set_option('display.max_colwidth', -1) \n",
    "\n",
    "df_useful_cnt_1_n_above = reviews_df_drop_col[reviews_df_drop_col['review_useful_count'] > 1]\n",
    "most_useful_review = df_useful_cnt_1_n_above.sort_values('review_useful_count', ascending=False).head(1)\n",
    "most_useful_review\n",
    "\n",
    "\n"
   ]
  },
  {
   "cell_type": "code",
   "execution_count": 158,
   "id": "db96f11a",
   "metadata": {},
   "outputs": [
    {
     "data": {
      "text/plain": [
       "27    Banjara, the perfume of Christie Pits. The thing about Indian food for me, is that I crave it, and when I'm eating it the aromas are beautiful... but the smell of other peoples' vindaloos, curries and paneers often turn me off. So when I lived near Banjara and got a whiff when the wind changed, I wasn't into it... but now that it's not part of my day to day life, man do I want it. I want it all of the time. Their dine in experience, is a red velvet treat, but I usually go for delivery. Delicious, delicious tandoor straight to my door.\n",
       "Name: review_text, dtype: object"
      ]
     },
     "execution_count": 158,
     "metadata": {},
     "output_type": "execute_result"
    }
   ],
   "source": [
    "most_useful_review.iloc[:,0]"
   ]
  },
  {
   "cell_type": "code",
   "execution_count": 159,
   "id": "fedc8594",
   "metadata": {},
   "outputs": [
    {
     "name": "stderr",
     "output_type": "stream",
     "text": [
      "<ipython-input-159-f658ddf57cf7>:2: FutureWarning: Passing a negative integer is deprecated in version 1.0 and will not be supported in future version. Instead, use None to not limit the column width.\n",
      "  pd.set_option('display.max_colwidth', -1)\n"
     ]
    },
    {
     "data": {
      "text/html": [
       "<div>\n",
       "<style scoped>\n",
       "    .dataframe tbody tr th:only-of-type {\n",
       "        vertical-align: middle;\n",
       "    }\n",
       "\n",
       "    .dataframe tbody tr th {\n",
       "        vertical-align: top;\n",
       "    }\n",
       "\n",
       "    .dataframe thead th {\n",
       "        text-align: right;\n",
       "    }\n",
       "</style>\n",
       "<table border=\"1\" class=\"dataframe\">\n",
       "  <thead>\n",
       "    <tr style=\"text-align: right;\">\n",
       "      <th></th>\n",
       "      <th>review_text</th>\n",
       "      <th>review_date</th>\n",
       "      <th>review_star_rating</th>\n",
       "      <th>reviewer_city</th>\n",
       "      <th>review_useful_count</th>\n",
       "      <th>review_funny_count</th>\n",
       "      <th>review_cool_count</th>\n",
       "    </tr>\n",
       "  </thead>\n",
       "  <tbody>\n",
       "    <tr>\n",
       "      <th>150</th>\n",
       "      <td>FatCat watch many documentaries...  One documentary showing how life is in India..  Sooo many people everywhere... No white lines on roads.. no traffic lights anywhere.. people trying to sell you something on every corner...  cows walking around streets like its no body business..   Total Chaos for FatCat...  FatCat always wonder how country actually still functioning... Well..  Now FatCat get a small taste of it  right here in Canada at Bajara restaurant, where entropy is in overdrive...Things FatCat like - Foooood.  Friend asking what they should try when they go.. FatCat say it doesn't matter, because everything is very good. - Have parking lot - but not try to park here if you have SUV or other big car.. Don't ask why.. Just trust FatCat.. Park on street.Things FatCat not like - Total chaos..  Order get messed up by servers.. Place totally rammed like yonge/bloor subway platform at 8:30am on Monday morning.. FatCat trapped behind table and cant go wee..  No one know what the heck going on with food...  But FatCat realize that everything work out in the end somehow and everyone walk out or restaurant alive and smiling.. FatCat now understand how busy countries like India still function well, even with all  chaos.  FatCat learn new way to operate in life... FatCat call this \"go with the flow\".  No more illusion of control over affairs FatCat not able to control.  Then FatCat and crew walk down the street to XO Karaoke (FatCat also do review of XO)</td>\n",
       "      <td>2014-04-27</td>\n",
       "      <td>5.0</td>\n",
       "      <td>Toronto</td>\n",
       "      <td>1</td>\n",
       "      <td>21</td>\n",
       "      <td>0</td>\n",
       "    </tr>\n",
       "  </tbody>\n",
       "</table>\n",
       "</div>"
      ],
      "text/plain": [
       "                                                                                                                                                                                                                                                                                                                                                                                                                                                                                                                                                                                                                                                                                                                                                                                                                                                                                                                                                                                                                                                                                                                                                                                                                                                                                                                                                                                                                                                                                                                           review_text  \\\n",
       "150  FatCat watch many documentaries...  One documentary showing how life is in India..  Sooo many people everywhere... No white lines on roads.. no traffic lights anywhere.. people trying to sell you something on every corner...  cows walking around streets like its no body business..   Total Chaos for FatCat...  FatCat always wonder how country actually still functioning... Well..  Now FatCat get a small taste of it  right here in Canada at Bajara restaurant, where entropy is in overdrive...Things FatCat like - Foooood.  Friend asking what they should try when they go.. FatCat say it doesn't matter, because everything is very good. - Have parking lot - but not try to park here if you have SUV or other big car.. Don't ask why.. Just trust FatCat.. Park on street.Things FatCat not like - Total chaos..  Order get messed up by servers.. Place totally rammed like yonge/bloor subway platform at 8:30am on Monday morning.. FatCat trapped behind table and cant go wee..  No one know what the heck going on with food...  But FatCat realize that everything work out in the end somehow and everyone walk out or restaurant alive and smiling.. FatCat now understand how busy countries like India still function well, even with all  chaos.  FatCat learn new way to operate in life... FatCat call this \"go with the flow\".  No more illusion of control over affairs FatCat not able to control.  Then FatCat and crew walk down the street to XO Karaoke (FatCat also do review of XO)   \n",
       "\n",
       "    review_date  review_star_rating reviewer_city  review_useful_count  review_funny_count  review_cool_count  \n",
       "150 2014-04-27   5.0                 Toronto       1                    21                  0                  "
      ]
     },
     "execution_count": 159,
     "metadata": {},
     "output_type": "execute_result"
    }
   ],
   "source": [
    "#most funny review \n",
    "pd.set_option('display.max_colwidth', -1) \n",
    "\n",
    "df_funny_cnt_1_n_above = reviews_df_drop_col[reviews_df_drop_col['review_funny_count'] > 1]\n",
    "most_funny_review = df_funny_cnt_1_n_above.sort_values('review_funny_count', ascending=False).head(1)\n",
    "most_funny_review"
   ]
  },
  {
   "cell_type": "code",
   "execution_count": 160,
   "id": "203eb829",
   "metadata": {},
   "outputs": [
    {
     "data": {
      "text/plain": [
       "150    FatCat watch many documentaries...  One documentary showing how life is in India..  Sooo many people everywhere... No white lines on roads.. no traffic lights anywhere.. people trying to sell you something on every corner...  cows walking around streets like its no body business..   Total Chaos for FatCat...  FatCat always wonder how country actually still functioning... Well..  Now FatCat get a small taste of it  right here in Canada at Bajara restaurant, where entropy is in overdrive...Things FatCat like - Foooood.  Friend asking what they should try when they go.. FatCat say it doesn't matter, because everything is very good. - Have parking lot - but not try to park here if you have SUV or other big car.. Don't ask why.. Just trust FatCat.. Park on street.Things FatCat not like - Total chaos..  Order get messed up by servers.. Place totally rammed like yonge/bloor subway platform at 8:30am on Monday morning.. FatCat trapped behind table and cant go wee..  No one know what the heck going on with food...  But FatCat realize that everything work out in the end somehow and everyone walk out or restaurant alive and smiling.. FatCat now understand how busy countries like India still function well, even with all  chaos.  FatCat learn new way to operate in life... FatCat call this \"go with the flow\".  No more illusion of control over affairs FatCat not able to control.  Then FatCat and crew walk down the street to XO Karaoke (FatCat also do review of XO)\n",
       "Name: review_text, dtype: object"
      ]
     },
     "execution_count": 160,
     "metadata": {},
     "output_type": "execute_result"
    }
   ],
   "source": [
    "most_funny_review.iloc[:,0]"
   ]
  },
  {
   "cell_type": "code",
   "execution_count": 161,
   "id": "d367a40b",
   "metadata": {},
   "outputs": [
    {
     "name": "stderr",
     "output_type": "stream",
     "text": [
      "<ipython-input-161-7928d0b13b75>:2: FutureWarning: Passing a negative integer is deprecated in version 1.0 and will not be supported in future version. Instead, use None to not limit the column width.\n",
      "  pd.set_option('display.max_colwidth', -1)\n"
     ]
    },
    {
     "data": {
      "text/html": [
       "<div>\n",
       "<style scoped>\n",
       "    .dataframe tbody tr th:only-of-type {\n",
       "        vertical-align: middle;\n",
       "    }\n",
       "\n",
       "    .dataframe tbody tr th {\n",
       "        vertical-align: top;\n",
       "    }\n",
       "\n",
       "    .dataframe thead th {\n",
       "        text-align: right;\n",
       "    }\n",
       "</style>\n",
       "<table border=\"1\" class=\"dataframe\">\n",
       "  <thead>\n",
       "    <tr style=\"text-align: right;\">\n",
       "      <th></th>\n",
       "      <th>review_text</th>\n",
       "      <th>review_date</th>\n",
       "      <th>review_star_rating</th>\n",
       "      <th>reviewer_city</th>\n",
       "      <th>review_useful_count</th>\n",
       "      <th>review_funny_count</th>\n",
       "      <th>review_cool_count</th>\n",
       "    </tr>\n",
       "  </thead>\n",
       "  <tbody>\n",
       "    <tr>\n",
       "      <th>27</th>\n",
       "      <td>Banjara, the perfume of Christie Pits. The thing about Indian food for me, is that I crave it, and when I'm eating it the aromas are beautiful... but the smell of other peoples' vindaloos, curries and paneers often turn me off. So when I lived near Banjara and got a whiff when the wind changed, I wasn't into it... but now that it's not part of my day to day life, man do I want it. I want it all of the time. Their dine in experience, is a red velvet treat, but I usually go for delivery. Delicious, delicious tandoor straight to my door.</td>\n",
       "      <td>2015-07-16</td>\n",
       "      <td>4.0</td>\n",
       "      <td>Toronto</td>\n",
       "      <td>13</td>\n",
       "      <td>10</td>\n",
       "      <td>8</td>\n",
       "    </tr>\n",
       "  </tbody>\n",
       "</table>\n",
       "</div>"
      ],
      "text/plain": [
       "                                                                                                                                                                                                                                                                                                                                                                                                                                                                                                                                                     review_text review_date  review_star_rating reviewer_city  review_useful_count  review_funny_count  review_cool_count\n",
       "27  Banjara, the perfume of Christie Pits. The thing about Indian food for me, is that I crave it, and when I'm eating it the aromas are beautiful... but the smell of other peoples' vindaloos, curries and paneers often turn me off. So when I lived near Banjara and got a whiff when the wind changed, I wasn't into it... but now that it's not part of my day to day life, man do I want it. I want it all of the time. Their dine in experience, is a red velvet treat, but I usually go for delivery. Delicious, delicious tandoor straight to my door. 2015-07-16   4.0                 Toronto       13                   10                  8                "
      ]
     },
     "execution_count": 161,
     "metadata": {},
     "output_type": "execute_result"
    }
   ],
   "source": [
    "#most cool review\n",
    "pd.set_option('display.max_colwidth', -1) \n",
    "\n",
    "df_cool_cnt_1_n_above = reviews_df_drop_col[reviews_df_drop_col['review_cool_count'] > 1]\n",
    "most_cool_review = df_cool_cnt_1_n_above.sort_values('review_cool_count', ascending=False).head(1)\n",
    "most_cool_review"
   ]
  },
  {
   "cell_type": "code",
   "execution_count": 245,
   "id": "2fa3ad19",
   "metadata": {},
   "outputs": [],
   "source": [
    "#reviews_df_drop_col.head()\n"
   ]
  },
  {
   "cell_type": "code",
   "execution_count": 243,
   "id": "3e9033e1",
   "metadata": {},
   "outputs": [],
   "source": [
    "#number of reviews per year\n",
    "#reviews_df_drop_col.iloc[0,1].year #int"
   ]
  },
  {
   "cell_type": "code",
   "execution_count": 244,
   "id": "e24db83f",
   "metadata": {},
   "outputs": [],
   "source": [
    "#reviews_df_drop_col.iloc[:,1]"
   ]
  },
  {
   "cell_type": "code",
   "execution_count": 197,
   "id": "abcea071",
   "metadata": {},
   "outputs": [],
   "source": [
    "#reviews_df_drop_col['review_date'].value_counts()"
   ]
  },
  {
   "cell_type": "code",
   "execution_count": 7,
   "id": "ab76e593",
   "metadata": {},
   "outputs": [],
   "source": [
    "#extract year out of date column and create a new column for year\n",
    "reviews_df_drop_col['year'] = reviews_df_drop_col['review_date'].dt.year"
   ]
  },
  {
   "cell_type": "code",
   "execution_count": 8,
   "id": "d303981e",
   "metadata": {},
   "outputs": [],
   "source": [
    "reviews_df_drop_col = reviews_df_drop_col.rename(columns = {'year':'review_year'})"
   ]
  },
  {
   "cell_type": "code",
   "execution_count": 9,
   "id": "8e8925a9",
   "metadata": {},
   "outputs": [
    {
     "data": {
      "text/html": [
       "<div>\n",
       "<style scoped>\n",
       "    .dataframe tbody tr th:only-of-type {\n",
       "        vertical-align: middle;\n",
       "    }\n",
       "\n",
       "    .dataframe tbody tr th {\n",
       "        vertical-align: top;\n",
       "    }\n",
       "\n",
       "    .dataframe thead th {\n",
       "        text-align: right;\n",
       "    }\n",
       "</style>\n",
       "<table border=\"1\" class=\"dataframe\">\n",
       "  <thead>\n",
       "    <tr style=\"text-align: right;\">\n",
       "      <th></th>\n",
       "      <th>review_text</th>\n",
       "      <th>review_date</th>\n",
       "      <th>review_star_rating</th>\n",
       "      <th>reviewer_city</th>\n",
       "      <th>review_useful_count</th>\n",
       "      <th>review_funny_count</th>\n",
       "      <th>review_cool_count</th>\n",
       "      <th>review_year</th>\n",
       "    </tr>\n",
       "  </thead>\n",
       "  <tbody>\n",
       "    <tr>\n",
       "      <th>0</th>\n",
       "      <td>Went here for my first meal in Toronto and it ...</td>\n",
       "      <td>2021-11-28</td>\n",
       "      <td>5.0</td>\n",
       "      <td>Pittsburgh</td>\n",
       "      <td>0</td>\n",
       "      <td>0</td>\n",
       "      <td>0</td>\n",
       "      <td>2021</td>\n",
       "    </tr>\n",
       "    <tr>\n",
       "      <th>1</th>\n",
       "      <td>For the life of me I really don't understand w...</td>\n",
       "      <td>2021-09-27</td>\n",
       "      <td>2.0</td>\n",
       "      <td>Toronto</td>\n",
       "      <td>0</td>\n",
       "      <td>0</td>\n",
       "      <td>0</td>\n",
       "      <td>2021</td>\n",
       "    </tr>\n",
       "    <tr>\n",
       "      <th>2</th>\n",
       "      <td>I love Banjara! It's impressive how well they ...</td>\n",
       "      <td>2021-11-07</td>\n",
       "      <td>4.0</td>\n",
       "      <td>Waterloo</td>\n",
       "      <td>0</td>\n",
       "      <td>0</td>\n",
       "      <td>0</td>\n",
       "      <td>2021</td>\n",
       "    </tr>\n",
       "    <tr>\n",
       "      <th>3</th>\n",
       "      <td>Got delivery during Covid.It's very affordable...</td>\n",
       "      <td>2021-01-30</td>\n",
       "      <td>5.0</td>\n",
       "      <td>Toronto</td>\n",
       "      <td>1</td>\n",
       "      <td>0</td>\n",
       "      <td>0</td>\n",
       "      <td>2021</td>\n",
       "    </tr>\n",
       "    <tr>\n",
       "      <th>4</th>\n",
       "      <td>Haven't been able to give Yelp enough lovin wi...</td>\n",
       "      <td>2020-07-12</td>\n",
       "      <td>5.0</td>\n",
       "      <td>North York</td>\n",
       "      <td>5</td>\n",
       "      <td>1</td>\n",
       "      <td>3</td>\n",
       "      <td>2020</td>\n",
       "    </tr>\n",
       "  </tbody>\n",
       "</table>\n",
       "</div>"
      ],
      "text/plain": [
       "                                         review_text review_date  \\\n",
       "0  Went here for my first meal in Toronto and it ...  2021-11-28   \n",
       "1  For the life of me I really don't understand w...  2021-09-27   \n",
       "2  I love Banjara! It's impressive how well they ...  2021-11-07   \n",
       "3  Got delivery during Covid.It's very affordable...  2021-01-30   \n",
       "4  Haven't been able to give Yelp enough lovin wi...  2020-07-12   \n",
       "\n",
       "   review_star_rating reviewer_city  review_useful_count  review_funny_count  \\\n",
       "0                 5.0    Pittsburgh                    0                   0   \n",
       "1                 2.0       Toronto                    0                   0   \n",
       "2                 4.0      Waterloo                    0                   0   \n",
       "3                 5.0       Toronto                    1                   0   \n",
       "4                 5.0    North York                    5                   1   \n",
       "\n",
       "   review_cool_count  review_year  \n",
       "0                  0         2021  \n",
       "1                  0         2021  \n",
       "2                  0         2021  \n",
       "3                  0         2021  \n",
       "4                  3         2020  "
      ]
     },
     "execution_count": 9,
     "metadata": {},
     "output_type": "execute_result"
    }
   ],
   "source": [
    "reviews_df_drop_col.head()"
   ]
  },
  {
   "cell_type": "code",
   "execution_count": 11,
   "id": "e6d74525",
   "metadata": {},
   "outputs": [
    {
     "data": {
      "text/html": [
       "<div>\n",
       "<style scoped>\n",
       "    .dataframe tbody tr th:only-of-type {\n",
       "        vertical-align: middle;\n",
       "    }\n",
       "\n",
       "    .dataframe tbody tr th {\n",
       "        vertical-align: top;\n",
       "    }\n",
       "\n",
       "    .dataframe thead th {\n",
       "        text-align: right;\n",
       "    }\n",
       "</style>\n",
       "<table border=\"1\" class=\"dataframe\">\n",
       "  <thead>\n",
       "    <tr style=\"text-align: right;\">\n",
       "      <th></th>\n",
       "      <th>review_year</th>\n",
       "    </tr>\n",
       "  </thead>\n",
       "  <tbody>\n",
       "    <tr>\n",
       "      <th>2014</th>\n",
       "      <td>53</td>\n",
       "    </tr>\n",
       "    <tr>\n",
       "      <th>2016</th>\n",
       "      <td>51</td>\n",
       "    </tr>\n",
       "    <tr>\n",
       "      <th>2017</th>\n",
       "      <td>49</td>\n",
       "    </tr>\n",
       "    <tr>\n",
       "      <th>2015</th>\n",
       "      <td>48</td>\n",
       "    </tr>\n",
       "    <tr>\n",
       "      <th>2013</th>\n",
       "      <td>43</td>\n",
       "    </tr>\n",
       "    <tr>\n",
       "      <th>2018</th>\n",
       "      <td>32</td>\n",
       "    </tr>\n",
       "    <tr>\n",
       "      <th>2011</th>\n",
       "      <td>30</td>\n",
       "    </tr>\n",
       "    <tr>\n",
       "      <th>2012</th>\n",
       "      <td>29</td>\n",
       "    </tr>\n",
       "    <tr>\n",
       "      <th>2019</th>\n",
       "      <td>25</td>\n",
       "    </tr>\n",
       "    <tr>\n",
       "      <th>2010</th>\n",
       "      <td>16</td>\n",
       "    </tr>\n",
       "    <tr>\n",
       "      <th>2009</th>\n",
       "      <td>15</td>\n",
       "    </tr>\n",
       "    <tr>\n",
       "      <th>2020</th>\n",
       "      <td>12</td>\n",
       "    </tr>\n",
       "    <tr>\n",
       "      <th>2021</th>\n",
       "      <td>7</td>\n",
       "    </tr>\n",
       "    <tr>\n",
       "      <th>2008</th>\n",
       "      <td>5</td>\n",
       "    </tr>\n",
       "  </tbody>\n",
       "</table>\n",
       "</div>"
      ],
      "text/plain": [
       "      review_year\n",
       "2014           53\n",
       "2016           51\n",
       "2017           49\n",
       "2015           48\n",
       "2013           43\n",
       "2018           32\n",
       "2011           30\n",
       "2012           29\n",
       "2019           25\n",
       "2010           16\n",
       "2009           15\n",
       "2020           12\n",
       "2021            7\n",
       "2008            5"
      ]
     },
     "execution_count": 11,
     "metadata": {},
     "output_type": "execute_result"
    }
   ],
   "source": [
    "\n",
    "#convert series to a dataframe\n",
    "\n",
    "ser = reviews_df_drop_col['review_year'].value_counts()\n",
    "df = ser.to_frame()\n",
    "df\n"
   ]
  },
  {
   "cell_type": "code",
   "execution_count": 12,
   "id": "8b651b03",
   "metadata": {},
   "outputs": [
    {
     "data": {
      "text/html": [
       "<div>\n",
       "<style scoped>\n",
       "    .dataframe tbody tr th:only-of-type {\n",
       "        vertical-align: middle;\n",
       "    }\n",
       "\n",
       "    .dataframe tbody tr th {\n",
       "        vertical-align: top;\n",
       "    }\n",
       "\n",
       "    .dataframe thead th {\n",
       "        text-align: right;\n",
       "    }\n",
       "</style>\n",
       "<table border=\"1\" class=\"dataframe\">\n",
       "  <thead>\n",
       "    <tr style=\"text-align: right;\">\n",
       "      <th></th>\n",
       "      <th>review_year</th>\n",
       "    </tr>\n",
       "  </thead>\n",
       "  <tbody>\n",
       "    <tr>\n",
       "      <th>2008</th>\n",
       "      <td>5</td>\n",
       "    </tr>\n",
       "    <tr>\n",
       "      <th>2009</th>\n",
       "      <td>15</td>\n",
       "    </tr>\n",
       "    <tr>\n",
       "      <th>2010</th>\n",
       "      <td>16</td>\n",
       "    </tr>\n",
       "    <tr>\n",
       "      <th>2011</th>\n",
       "      <td>30</td>\n",
       "    </tr>\n",
       "    <tr>\n",
       "      <th>2012</th>\n",
       "      <td>29</td>\n",
       "    </tr>\n",
       "    <tr>\n",
       "      <th>2013</th>\n",
       "      <td>43</td>\n",
       "    </tr>\n",
       "    <tr>\n",
       "      <th>2014</th>\n",
       "      <td>53</td>\n",
       "    </tr>\n",
       "    <tr>\n",
       "      <th>2015</th>\n",
       "      <td>48</td>\n",
       "    </tr>\n",
       "    <tr>\n",
       "      <th>2016</th>\n",
       "      <td>51</td>\n",
       "    </tr>\n",
       "    <tr>\n",
       "      <th>2017</th>\n",
       "      <td>49</td>\n",
       "    </tr>\n",
       "    <tr>\n",
       "      <th>2018</th>\n",
       "      <td>32</td>\n",
       "    </tr>\n",
       "    <tr>\n",
       "      <th>2019</th>\n",
       "      <td>25</td>\n",
       "    </tr>\n",
       "    <tr>\n",
       "      <th>2020</th>\n",
       "      <td>12</td>\n",
       "    </tr>\n",
       "    <tr>\n",
       "      <th>2021</th>\n",
       "      <td>7</td>\n",
       "    </tr>\n",
       "  </tbody>\n",
       "</table>\n",
       "</div>"
      ],
      "text/plain": [
       "      review_year\n",
       "2008            5\n",
       "2009           15\n",
       "2010           16\n",
       "2011           30\n",
       "2012           29\n",
       "2013           43\n",
       "2014           53\n",
       "2015           48\n",
       "2016           51\n",
       "2017           49\n",
       "2018           32\n",
       "2019           25\n",
       "2020           12\n",
       "2021            7"
      ]
     },
     "execution_count": 12,
     "metadata": {},
     "output_type": "execute_result"
    }
   ],
   "source": [
    "\n",
    "df = df.sort_index(ascending = True)\n",
    "df\n",
    "\n",
    "#Number of reviews are quite low in 2020 and 2021...could be because of covid"
   ]
  },
  {
   "cell_type": "code",
   "execution_count": 241,
   "id": "cfc179c2",
   "metadata": {},
   "outputs": [],
   "source": [
    "#type(df)"
   ]
  },
  {
   "cell_type": "code",
   "execution_count": 13,
   "id": "8cd0c02e",
   "metadata": {},
   "outputs": [
    {
     "data": {
      "text/plain": [
       "'\\nnumber of reveiews peaked in 2014 and have never regained.\\nnumber of reviews have been declining since 2016, so covid is not a factor\\n'"
      ]
     },
     "execution_count": 13,
     "metadata": {},
     "output_type": "execute_result"
    },
    {
     "data": {
      "image/png": "[encoded data removed]",
      "text/plain": [
       "<Figure size 432x288 with 1 Axes>"
      ]
     },
     "metadata": {
      "needs_background": "light"
     },
     "output_type": "display_data"
    }
   ],
   "source": [
    "#number of reviews per year\n",
    "\n",
    "import matplotlib.pyplot as plt \n",
    "%matplotlib inline\n",
    "\n",
    "#fig, ax = plt.subplots(figsize =(7, 7))\n",
    "df.plot.line();\n",
    "plt.xlabel('year')\n",
    "plt.ylabel('number of reviews')\n",
    "plt.title('Number of reviews by year');\n",
    "\n",
    "'''\n",
    "number of reveiews peaked in 2014 and have never regained.\n",
    "number of reviews have been declining since 2016, so covid is not a factor\n",
    "'''"
   ]
  },
  {
   "cell_type": "code",
   "execution_count": 26,
   "id": "6525e804",
   "metadata": {},
   "outputs": [],
   "source": [
    "#reviews_df_drop_col.head()"
   ]
  }
 ],
 "metadata": {
  "kernelspec": {
   "display_name": "Python 3",
   "language": "python",
   "name": "python3"
  },
  "language_info": {
   "codemirror_mode": {
    "name": "ipython",
    "version": 3
   },
   "file_extension": ".py",
   "mimetype": "text/x-python",
   "name": "python",
   "nbconvert_exporter": "python",
   "pygments_lexer": "ipython3",
   "version": "3.9.5"
  }
 },
 "nbformat": 4,
 "nbformat_minor": 5
}
