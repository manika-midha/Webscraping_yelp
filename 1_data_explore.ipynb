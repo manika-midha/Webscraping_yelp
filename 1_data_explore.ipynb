{
 "cells": [
  {
   "cell_type": "code",
   "execution_count": 1,
   "id": "e6e7086c",
   "metadata": {},
   "outputs": [
    {
     "name": "stdout",
     "output_type": "stream",
     "text": [
      "showing info https://raw.githubusercontent.com/nltk/nltk_data/gh-pages/index.xml\n"
     ]
    }
   ],
   "source": [
    "import pandas as pd\n",
    "import string\n",
    "\n",
    "\n",
    "from sklearn.linear_model import LogisticRegression\n",
    "from sklearn.tree import DecisionTreeClassifier\n",
    "from sklearn.model_selection import train_test_split\n",
    "from sklearn.ensemble import RandomForestClassifier\n",
    "from sklearn.neighbors import KNeighborsClassifier\n",
    "\n",
    "import matplotlib.pyplot as plt\n",
    "%matplotlib inline\n",
    "\n",
    "import nltk\n",
    "nltk.download()\n",
    "\n",
    "from nltk.corpus import stopwords"
   ]
  },
  {
   "cell_type": "code",
   "execution_count": 2,
   "id": "81041787",
   "metadata": {},
   "outputs": [
    {
     "data": {
      "text/html": [
       "<div>\n",
       "<style scoped>\n",
       "    .dataframe tbody tr th:only-of-type {\n",
       "        vertical-align: middle;\n",
       "    }\n",
       "\n",
       "    .dataframe tbody tr th {\n",
       "        vertical-align: top;\n",
       "    }\n",
       "\n",
       "    .dataframe thead th {\n",
       "        text-align: right;\n",
       "    }\n",
       "</style>\n",
       "<table border=\"1\" class=\"dataframe\">\n",
       "  <thead>\n",
       "    <tr style=\"text-align: right;\">\n",
       "      <th></th>\n",
       "      <th>0</th>\n",
       "      <th>1</th>\n",
       "    </tr>\n",
       "  </thead>\n",
       "  <tbody>\n",
       "    <tr>\n",
       "      <th>0</th>\n",
       "      <td>ham</td>\n",
       "      <td>I've been searching for the right words to tha...</td>\n",
       "    </tr>\n",
       "    <tr>\n",
       "      <th>1</th>\n",
       "      <td>spam</td>\n",
       "      <td>Free entry in 2 a wkly comp to win FA Cup fina...</td>\n",
       "    </tr>\n",
       "    <tr>\n",
       "      <th>2</th>\n",
       "      <td>ham</td>\n",
       "      <td>Nah I don't think he goes to usf, he lives aro...</td>\n",
       "    </tr>\n",
       "    <tr>\n",
       "      <th>3</th>\n",
       "      <td>ham</td>\n",
       "      <td>Even my brother is not like to speak with me. ...</td>\n",
       "    </tr>\n",
       "    <tr>\n",
       "      <th>4</th>\n",
       "      <td>ham</td>\n",
       "      <td>I HAVE A DATE ON SUNDAY WITH WILL!!</td>\n",
       "    </tr>\n",
       "  </tbody>\n",
       "</table>\n",
       "</div>"
      ],
      "text/plain": [
       "      0                                                  1\n",
       "0   ham  I've been searching for the right words to tha...\n",
       "1  spam  Free entry in 2 a wkly comp to win FA Cup fina...\n",
       "2   ham  Nah I don't think he goes to usf, he lives aro...\n",
       "3   ham  Even my brother is not like to speak with me. ...\n",
       "4   ham                I HAVE A DATE ON SUNDAY WITH WILL!!"
      ]
     },
     "execution_count": 2,
     "metadata": {},
     "output_type": "execute_result"
    }
   ],
   "source": [
    "data_df = pd.read_csv('SMSSpamCollection.tsv',sep='\\t',header=None)\n",
    "data_df.head()"
   ]
  },
  {
   "cell_type": "code",
   "execution_count": 3,
   "id": "4e4d419f",
   "metadata": {},
   "outputs": [
    {
     "data": {
      "text/html": [
       "<div>\n",
       "<style scoped>\n",
       "    .dataframe tbody tr th:only-of-type {\n",
       "        vertical-align: middle;\n",
       "    }\n",
       "\n",
       "    .dataframe tbody tr th {\n",
       "        vertical-align: top;\n",
       "    }\n",
       "\n",
       "    .dataframe thead th {\n",
       "        text-align: right;\n",
       "    }\n",
       "</style>\n",
       "<table border=\"1\" class=\"dataframe\">\n",
       "  <thead>\n",
       "    <tr style=\"text-align: right;\">\n",
       "      <th></th>\n",
       "      <th>label</th>\n",
       "      <th>sms_text</th>\n",
       "    </tr>\n",
       "  </thead>\n",
       "  <tbody>\n",
       "    <tr>\n",
       "      <th>0</th>\n",
       "      <td>ham</td>\n",
       "      <td>I've been searching for the right words to tha...</td>\n",
       "    </tr>\n",
       "    <tr>\n",
       "      <th>1</th>\n",
       "      <td>spam</td>\n",
       "      <td>Free entry in 2 a wkly comp to win FA Cup fina...</td>\n",
       "    </tr>\n",
       "    <tr>\n",
       "      <th>2</th>\n",
       "      <td>ham</td>\n",
       "      <td>Nah I don't think he goes to usf, he lives aro...</td>\n",
       "    </tr>\n",
       "    <tr>\n",
       "      <th>3</th>\n",
       "      <td>ham</td>\n",
       "      <td>Even my brother is not like to speak with me. ...</td>\n",
       "    </tr>\n",
       "    <tr>\n",
       "      <th>4</th>\n",
       "      <td>ham</td>\n",
       "      <td>I HAVE A DATE ON SUNDAY WITH WILL!!</td>\n",
       "    </tr>\n",
       "  </tbody>\n",
       "</table>\n",
       "</div>"
      ],
      "text/plain": [
       "  label                                           sms_text\n",
       "0   ham  I've been searching for the right words to tha...\n",
       "1  spam  Free entry in 2 a wkly comp to win FA Cup fina...\n",
       "2   ham  Nah I don't think he goes to usf, he lives aro...\n",
       "3   ham  Even my brother is not like to speak with me. ...\n",
       "4   ham                I HAVE A DATE ON SUNDAY WITH WILL!!"
      ]
     },
     "execution_count": 3,
     "metadata": {},
     "output_type": "execute_result"
    }
   ],
   "source": [
    "#change col names\n",
    "data_df.columns = ['label','sms_text']\n",
    "data_df.head()"
   ]
  },
  {
   "cell_type": "code",
   "execution_count": 3,
   "id": "736fb03e",
   "metadata": {},
   "outputs": [
    {
     "data": {
      "text/plain": [
       "(5568, 2)"
      ]
     },
     "execution_count": 3,
     "metadata": {},
     "output_type": "execute_result"
    }
   ],
   "source": [
    "data_df.shape #5568 rows and 2 colummns"
   ]
  },
  {
   "cell_type": "code",
   "execution_count": 9,
   "id": "3e8b0988",
   "metadata": {},
   "outputs": [
    {
     "data": {
      "text/plain": [
       "label       0\n",
       "sms_text    0\n",
       "dtype: int64"
      ]
     },
     "execution_count": 9,
     "metadata": {},
     "output_type": "execute_result"
    }
   ],
   "source": [
    "data_df.isnull().sum() #no null values"
   ]
  },
  {
   "cell_type": "code",
   "execution_count": 10,
   "id": "c2370bad",
   "metadata": {},
   "outputs": [
    {
     "name": "stdout",
     "output_type": "stream",
     "text": [
      "<class 'pandas.core.frame.DataFrame'>\n",
      "RangeIndex: 5568 entries, 0 to 5567\n",
      "Data columns (total 2 columns):\n",
      " #   Column    Non-Null Count  Dtype \n",
      "---  ------    --------------  ----- \n",
      " 0   label     5568 non-null   object\n",
      " 1   sms_text  5568 non-null   object\n",
      "dtypes: object(2)\n",
      "memory usage: 87.1+ KB\n"
     ]
    }
   ],
   "source": [
    "data_df.info() #data type of both columns is string"
   ]
  },
  {
   "cell_type": "code",
   "execution_count": 4,
   "id": "91246390",
   "metadata": {},
   "outputs": [
    {
     "data": {
      "text/plain": [
       "array(['ham', 'spam'], dtype=object)"
      ]
     },
     "execution_count": 4,
     "metadata": {},
     "output_type": "execute_result"
    }
   ],
   "source": [
    "data_df['label'].unique() #binary classification problem"
   ]
  },
  {
   "cell_type": "code",
   "execution_count": null,
   "id": "54c93100",
   "metadata": {},
   "outputs": [],
   "source": [
    "#Data is imbalanced:\n",
    "#13.4 messages are spam\n",
    "#86.6 % messages are ham"
   ]
  },
  {
   "cell_type": "code",
   "execution_count": 5,
   "id": "7bd84658",
   "metadata": {},
   "outputs": [
    {
     "data": {
      "text/plain": [
       "ham     4822\n",
       "spam     746\n",
       "Name: label, dtype: int64"
      ]
     },
     "execution_count": 5,
     "metadata": {},
     "output_type": "execute_result"
    }
   ],
   "source": [
    "data_df['label'].value_counts()"
   ]
  },
  {
   "cell_type": "code",
   "execution_count": 13,
   "id": "f2fe2b4a",
   "metadata": {},
   "outputs": [
    {
     "data": {
      "text/plain": [
       "<AxesSubplot:>"
      ]
     },
     "execution_count": 13,
     "metadata": {},
     "output_type": "execute_result"
    },
    {
     "data": {
      "image/png": "[encoded data removed]",
      "text/plain": [
       "<Figure size 432x288 with 1 Axes>"
      ]
     },
     "metadata": {
      "needs_background": "light"
     },
     "output_type": "display_data"
    }
   ],
   "source": [
    "data_df['label'].value_counts().plot(kind='bar')"
   ]
  },
  {
   "cell_type": "code",
   "execution_count": 6,
   "id": "ca011b6b",
   "metadata": {},
   "outputs": [
    {
     "data": {
      "text/html": [
       "<div>\n",
       "<style scoped>\n",
       "    .dataframe tbody tr th:only-of-type {\n",
       "        vertical-align: middle;\n",
       "    }\n",
       "\n",
       "    .dataframe tbody tr th {\n",
       "        vertical-align: top;\n",
       "    }\n",
       "\n",
       "    .dataframe thead th {\n",
       "        text-align: right;\n",
       "    }\n",
       "</style>\n",
       "<table border=\"1\" class=\"dataframe\">\n",
       "  <thead>\n",
       "    <tr style=\"text-align: right;\">\n",
       "      <th></th>\n",
       "      <th>label</th>\n",
       "      <th>sms_text</th>\n",
       "      <th>label_num</th>\n",
       "    </tr>\n",
       "  </thead>\n",
       "  <tbody>\n",
       "    <tr>\n",
       "      <th>0</th>\n",
       "      <td>ham</td>\n",
       "      <td>I've been searching for the right words to tha...</td>\n",
       "      <td>0</td>\n",
       "    </tr>\n",
       "    <tr>\n",
       "      <th>1</th>\n",
       "      <td>spam</td>\n",
       "      <td>Free entry in 2 a wkly comp to win FA Cup fina...</td>\n",
       "      <td>1</td>\n",
       "    </tr>\n",
       "    <tr>\n",
       "      <th>2</th>\n",
       "      <td>ham</td>\n",
       "      <td>Nah I don't think he goes to usf, he lives aro...</td>\n",
       "      <td>0</td>\n",
       "    </tr>\n",
       "    <tr>\n",
       "      <th>3</th>\n",
       "      <td>ham</td>\n",
       "      <td>Even my brother is not like to speak with me. ...</td>\n",
       "      <td>0</td>\n",
       "    </tr>\n",
       "    <tr>\n",
       "      <th>4</th>\n",
       "      <td>ham</td>\n",
       "      <td>I HAVE A DATE ON SUNDAY WITH WILL!!</td>\n",
       "      <td>0</td>\n",
       "    </tr>\n",
       "  </tbody>\n",
       "</table>\n",
       "</div>"
      ],
      "text/plain": [
       "  label                                           sms_text  label_num\n",
       "0   ham  I've been searching for the right words to tha...          0\n",
       "1  spam  Free entry in 2 a wkly comp to win FA Cup fina...          1\n",
       "2   ham  Nah I don't think he goes to usf, he lives aro...          0\n",
       "3   ham  Even my brother is not like to speak with me. ...          0\n",
       "4   ham                I HAVE A DATE ON SUNDAY WITH WILL!!          0"
      ]
     },
     "execution_count": 6,
     "metadata": {},
     "output_type": "execute_result"
    }
   ],
   "source": [
    "#1) convert label to numerical value:\n",
    "#spam = 1, ham = 0\n",
    "\n",
    "data_df['label_num'] = data_df['label'].map({'ham': 0, 'spam':1})\n",
    "data_df.head()"
   ]
  },
  {
   "cell_type": "code",
   "execution_count": null,
   "id": "4a3c8eca",
   "metadata": {},
   "outputs": [],
   "source": [
    "#Most common spam words :"
   ]
  },
  {
   "cell_type": "code",
   "execution_count": 7,
   "id": "1b5bb9d8",
   "metadata": {},
   "outputs": [],
   "source": [
    "from nltk.tokenize import word_tokenize \n",
    "\n",
    "def tokenize(text):\n",
    "    return word_tokenize(text.lower())"
   ]
  },
  {
   "cell_type": "code",
   "execution_count": 8,
   "id": "e4171bd5",
   "metadata": {},
   "outputs": [
    {
     "data": {
      "text/html": [
       "<div>\n",
       "<style scoped>\n",
       "    .dataframe tbody tr th:only-of-type {\n",
       "        vertical-align: middle;\n",
       "    }\n",
       "\n",
       "    .dataframe tbody tr th {\n",
       "        vertical-align: top;\n",
       "    }\n",
       "\n",
       "    .dataframe thead th {\n",
       "        text-align: right;\n",
       "    }\n",
       "</style>\n",
       "<table border=\"1\" class=\"dataframe\">\n",
       "  <thead>\n",
       "    <tr style=\"text-align: right;\">\n",
       "      <th></th>\n",
       "      <th>label</th>\n",
       "      <th>sms_text</th>\n",
       "      <th>label_num</th>\n",
       "      <th>text_tokenized</th>\n",
       "      <th>text_token_stopwords</th>\n",
       "      <th>text_token_stopwords_stem</th>\n",
       "    </tr>\n",
       "  </thead>\n",
       "  <tbody>\n",
       "    <tr>\n",
       "      <th>0</th>\n",
       "      <td>ham</td>\n",
       "      <td>I've been searching for the right words to tha...</td>\n",
       "      <td>0</td>\n",
       "      <td>[i, 've, been, searching, for, the, right, wor...</td>\n",
       "      <td>['ve, searching, right, words, thank, breather...</td>\n",
       "      <td>['ve, search, right, word, thank, breather, .,...</td>\n",
       "    </tr>\n",
       "    <tr>\n",
       "      <th>1</th>\n",
       "      <td>spam</td>\n",
       "      <td>Free entry in 2 a wkly comp to win FA Cup fina...</td>\n",
       "      <td>1</td>\n",
       "      <td>[free, entry, in, 2, a, wkly, comp, to, win, f...</td>\n",
       "      <td>[free, entry, 2, wkly, comp, win, fa, cup, fin...</td>\n",
       "      <td>[free, entri, 2, wkli, comp, win, fa, cup, fin...</td>\n",
       "    </tr>\n",
       "    <tr>\n",
       "      <th>2</th>\n",
       "      <td>ham</td>\n",
       "      <td>Nah I don't think he goes to usf, he lives aro...</td>\n",
       "      <td>0</td>\n",
       "      <td>[nah, i, do, n't, think, he, goes, to, usf, ,,...</td>\n",
       "      <td>[nah, n't, think, goes, usf, ,, lives, around,...</td>\n",
       "      <td>[nah, n't, think, goe, usf, ,, live, around, t...</td>\n",
       "    </tr>\n",
       "    <tr>\n",
       "      <th>3</th>\n",
       "      <td>ham</td>\n",
       "      <td>Even my brother is not like to speak with me. ...</td>\n",
       "      <td>0</td>\n",
       "      <td>[even, my, brother, is, not, like, to, speak, ...</td>\n",
       "      <td>[even, brother, like, speak, ., treat, like, a...</td>\n",
       "      <td>[even, brother, like, speak, ., treat, like, a...</td>\n",
       "    </tr>\n",
       "    <tr>\n",
       "      <th>4</th>\n",
       "      <td>ham</td>\n",
       "      <td>I HAVE A DATE ON SUNDAY WITH WILL!!</td>\n",
       "      <td>0</td>\n",
       "      <td>[i, have, a, date, on, sunday, with, will, !, !]</td>\n",
       "      <td>[date, sunday, !, !]</td>\n",
       "      <td>[date, sunday, !, !]</td>\n",
       "    </tr>\n",
       "  </tbody>\n",
       "</table>\n",
       "</div>"
      ],
      "text/plain": [
       "  label                                           sms_text  label_num  \\\n",
       "0   ham  I've been searching for the right words to tha...          0   \n",
       "1  spam  Free entry in 2 a wkly comp to win FA Cup fina...          1   \n",
       "2   ham  Nah I don't think he goes to usf, he lives aro...          0   \n",
       "3   ham  Even my brother is not like to speak with me. ...          0   \n",
       "4   ham                I HAVE A DATE ON SUNDAY WITH WILL!!          0   \n",
       "\n",
       "                                      text_tokenized  \\\n",
       "0  [i, 've, been, searching, for, the, right, wor...   \n",
       "1  [free, entry, in, 2, a, wkly, comp, to, win, f...   \n",
       "2  [nah, i, do, n't, think, he, goes, to, usf, ,,...   \n",
       "3  [even, my, brother, is, not, like, to, speak, ...   \n",
       "4   [i, have, a, date, on, sunday, with, will, !, !]   \n",
       "\n",
       "                                text_token_stopwords  \\\n",
       "0  ['ve, searching, right, words, thank, breather...   \n",
       "1  [free, entry, 2, wkly, comp, win, fa, cup, fin...   \n",
       "2  [nah, n't, think, goes, usf, ,, lives, around,...   \n",
       "3  [even, brother, like, speak, ., treat, like, a...   \n",
       "4                               [date, sunday, !, !]   \n",
       "\n",
       "                           text_token_stopwords_stem  \n",
       "0  ['ve, search, right, word, thank, breather, .,...  \n",
       "1  [free, entri, 2, wkli, comp, win, fa, cup, fin...  \n",
       "2  [nah, n't, think, goe, usf, ,, live, around, t...  \n",
       "3  [even, brother, like, speak, ., treat, like, a...  \n",
       "4                               [date, sunday, !, !]  "
      ]
     },
     "execution_count": 8,
     "metadata": {},
     "output_type": "execute_result"
    }
   ],
   "source": [
    "\n",
    "\n",
    "#1\n",
    "data_df['text_tokenized'] = data_df['sms_text'].apply(tokenize)\n",
    "\n",
    "#2\n",
    "stopword = nltk.corpus.stopwords.words('english')\n",
    "def remove_stopwords(text):\n",
    "    text_wo_stwr = []\n",
    "    for word in text :\n",
    "        if word not in stopword:\n",
    "            text_wo_stwr.append(word)\n",
    "            \n",
    "    return (text_wo_stwr)\n",
    "data_df['text_token_stopwords'] = data_df['text_tokenized'].apply(remove_stopwords) \n",
    "\n",
    "#3\n",
    "ps = nltk.PorterStemmer()\n",
    "def stemming(tokenized_list):\n",
    "    new_list = []\n",
    "    for word in tokenized_list :\n",
    "        new_list.append(ps.stem(word))\n",
    "        \n",
    "    return new_list\n",
    "data_df['text_token_stopwords_stem'] = data_df['text_token_stopwords'].apply(stemming)\n",
    "\n",
    "data_df.head()\n"
   ]
  },
  {
   "cell_type": "code",
   "execution_count": 9,
   "id": "3f7b5cef",
   "metadata": {},
   "outputs": [
    {
     "data": {
      "text/plain": [
       "1       [free, entri, 2, wkli, comp, win, fa, cup, fin...\n",
       "6       [winner, !, !, valu, network, custom, select, ...\n",
       "7       [mobil, 11, month, ?, u, r, entitl, updat, lat...\n",
       "9       [six, chanc, win, cash, !, 100, 20,000, pound,...\n",
       "10      [urgent, !, 1, week, free, membership, £100,00...\n",
       "                              ...                        \n",
       "5533    [want, explicit, sex, 30, sec, ?, ring, 020731...\n",
       "5536    [ask, 3mobil, 0870, chatlin, inclu, free, min,...\n",
       "5543    [contract, mobil, 11, mnth, ?, latest, motorol...\n",
       "5562    [remind, o2, :, get, 2.50, pound, free, call, ...\n",
       "5563    [2nd, time, tri, 2, contact, u., u, £750, poun...\n",
       "Name: text_token_stopwords_stem, Length: 746, dtype: object"
      ]
     },
     "execution_count": 9,
     "metadata": {},
     "output_type": "execute_result"
    }
   ],
   "source": [
    "spam_msgs_only = data_df[data_df['label_num'] == 1]['text_token_stopwords_stem']\n",
    "spam_msgs_only"
   ]
  },
  {
   "cell_type": "code",
   "execution_count": 12,
   "id": "5ce9691d",
   "metadata": {},
   "outputs": [
    {
     "name": "stdout",
     "output_type": "stream",
     "text": [
      "[('.', 924), ('!', 543), (',', 377), ('call', 365), ('free', 219), ('&', 178), ('2', 174), ('?', 174), ('txt', 169), (':', 163), ('ur', 144), ('u', 142), ('text', 139), ('mobil', 135), ('4', 120), ('stop', 118), ('claim', 115), ('*', 115), ('repli', 112), ('prize', 94)]\n"
     ]
    },
    {
     "data": {
      "image/png": "[encoded data removed]",
      "text/plain": [
       "<Figure size 576x576 with 1 Axes>"
      ]
     },
     "metadata": {
      "needs_background": "light"
     },
     "output_type": "display_data"
    }
   ],
   "source": [
    "from collections import Counter\n",
    "#will return 20 most common words \n",
    "def ret_word_cnt(tokenized_list):\n",
    "\n",
    "    spam_words = Counter()\n",
    "    for msg in tokenized_list :\n",
    "        spam_words.update(msg)\n",
    "\n",
    "    return (spam_words.most_common(20))\n",
    "\n",
    "print(ret_word_cnt(spam_msgs_only))\n",
    "\n",
    "#--------------------------------------------------\n",
    "\n",
    "freq_of_word = [val[1] for val in ret_word_cnt(spam_msgs_only)]\n",
    "#reverse as matplotlib starts drawing graphs from bottom\n",
    "freq_of_word = freq_of_word[::-1]\n",
    "\n",
    "#reverse as matplotlib starts drawing graphs from bottom\n",
    "word = [val[0] for val in ret_word_cnt(spam_msgs_only)]\n",
    "word = word[::-1]\n",
    "\n",
    "plt.figure(figsize=(8,8))\n",
    "plt.barh(word,freq_of_word)\n",
    "plt.xlabel('Word Count')\n",
    "plt.ylabel('Words')\n",
    "plt.title('Frequency of top 20 spam words');\n",
    "\n",
    "#punctuations are very common in spam messages - . ! , & ? : *\n",
    "#words like call, free , txt, claim, prize "
   ]
  }
 ],
 "metadata": {
  "kernelspec": {
   "display_name": "Python 3 (ipykernel)",
   "language": "python",
   "name": "python3"
  },
  "language_info": {
   "codemirror_mode": {
    "name": "ipython",
    "version": 3
   },
   "file_extension": ".py",
   "mimetype": "text/x-python",
   "name": "python",
   "nbconvert_exporter": "python",
   "pygments_lexer": "ipython3",
   "version": "3.9.7"
  }
 },
 "nbformat": 4,
 "nbformat_minor": 5
}
